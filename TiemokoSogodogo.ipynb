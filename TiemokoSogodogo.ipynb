{
 "cells": [
  {
   "cell_type": "markdown",
   "metadata": {},
   "source": [
    "# 1. Importation des librairies"
   ]
  },
  {
   "cell_type": "code",
   "execution_count": null,
   "metadata": {},
   "outputs": [],
   "source": [
    "import pandas as pd\n",
    "import matplotlib.pyplot as plt\n",
    "import seaborn as sns"
   ]
  },
  {
   "cell_type": "markdown",
   "metadata": {},
   "source": [
    "# 2. Chargement des données"
   ]
  },
  {
   "cell_type": "code",
   "execution_count": null,
   "metadata": {},
   "outputs": [],
   "source": [
    "###Chargement des données dans un Dataframe Pandas\n",
    "spaceship_titanic_train = pd.read_csv('train.csv')\n",
    "print(f\"La taille (Lignes et colonnes) de l'ensemble des données d'entraînement : {spaceship_titanic_train.shape}\")"
   ]
  },
  {
   "cell_type": "code",
   "execution_count": null,
   "metadata": {},
   "outputs": [],
   "source": [
    "###Affichons les 5 premiers exemples\n",
    "###dataset_df.head() ou\n",
    "spaceship_titanic_train.head(5)"
   ]
  },
  {
   "cell_type": "markdown",
   "metadata": {},
   "source": [
    "# 3. Explorations et visualisations de nos données"
   ]
  },
  {
   "cell_type": "code",
   "execution_count": null,
   "metadata": {},
   "outputs": [],
   "source": [
    "###On peut constater que la moyenne d'âge est de 28 (28.827 ~ 28), dont le maximum est 79 ans.\n",
    "###Avec 8514 exemples\n",
    "spaceship_titanic_train.describe()"
   ]
  },
  {
   "cell_type": "code",
   "execution_count": null,
   "metadata": {},
   "outputs": [],
   "source": [
    "###Voir le DataFrame\n",
    "spaceship_titanic_train"
   ]
  },
  {
   "cell_type": "code",
   "execution_count": null,
   "metadata": {},
   "outputs": [],
   "source": [
    "###Les nombre de passagers transportés (True) et non transportés (False) sont presque identiques\n",
    "###Dans nos données d'entraînement\n",
    "ax = sns.countplot(spaceship_titanic_train, x='Transported')\n",
    "ax.set_title('Nombre de passagers transportés et non transportés')\n",
    "ax.set_xlabel('Passagers transportés')\n",
    "ax.set_ylabel('Nombre')"
   ]
  },
  {
   "cell_type": "code",
   "execution_count": null,
   "metadata": {},
   "outputs": [],
   "source": [
    "###Distribution de l'âge par rapport\n",
    "###aux passagers transportés (True) et non transportés (False)\n",
    "###\n",
    "###On verra que les passagers de :\n",
    "###0-18 ans étaient plus susceptibles d'être transportés que de ne pas l'être.\n",
    "###18-25 ans étaient moins susceptibles d'être transportés que de ne pas l'être.\n",
    "###Les plus de 25 ans ont à peu près autant de chances d'être transportés que de ne pas l'être.\n",
    "sns.histplot(data=spaceship_titanic_train, x='Age', hue='Transported', binwidth=1, kde=True)\n",
    "plt.title('Distribution de l\\'âge')"
   ]
  },
  {
   "cell_type": "code",
   "execution_count": null,
   "metadata": {},
   "outputs": [],
   "source": [
    "###Les informations sur le DataFrame,\n",
    "###Notamment le type d'index et les colonnes, les valeurs non nulles\n",
    "###Et l'utilisation de la mémoire.\n",
    "spaceship_titanic_train.info()"
   ]
  },
  {
   "cell_type": "markdown",
   "metadata": {},
   "source": [
    "# 4. Préparation de nos données"
   ]
  },
  {
   "cell_type": "code",
   "execution_count": null,
   "metadata": {},
   "outputs": [],
   "source": [
    "###Suppression des colonnes non importantes pour nos données d'entraînement\n",
    "spaceship_titanic_train = spaceship_titanic_train.drop(['PassengerId', 'Name'], axis=1)\n",
    "spaceship_titanic_train.head(2)"
   ]
  },
  {
   "cell_type": "code",
   "execution_count": null,
   "metadata": {},
   "outputs": [],
   "source": [
    "###Voir le nombre de valeurs manquantes dans nos données\n",
    "spaceship_titanic_train.isnull().sum().sort_values(ascending=False)"
   ]
  },
  {
   "cell_type": "code",
   "execution_count": null,
   "metadata": {},
   "outputs": [],
   "source": [
    "# df = spaceship_titanic_train.copy()\n",
    "# numeric_columns = df.select_dtypes(include=['number']).columns\n",
    "# nrows = len(numeric_columns)\n",
    "# ncols = 1\n",
    "\n",
    "# _, axes = plt.subplots(nrows, ncols, figsize=(8, 6*nrows))\n",
    "\n",
    "# for i, col in enumerate(numeric_columns):\n",
    "#     ax = axes[i]\n",
    "#     col_random = col + '_random'\n",
    "#     df[col_random]=df[col]\n",
    "#     random_sample = df[col].dropna().sample(df[col].isnull().sum(), random_state=0)\n",
    "#     random_sample.index = df[df[col].isnull()].index\n",
    "#     df.loc[df[col].isnull(), col_random] = random_sample\n",
    "\n",
    "#     df[col].plot(kind='kde', ax=ax, label=f\"{col} original\", color='blue')\n",
    "#     df[col_random].plot(kind='kde', ax=ax, label=f\"{col} random\", color='red')\n",
    "\n",
    "#     ax.set_title(f\"Distribution de {col}\")\n",
    "#     ax.legend()\n",
    "#     ax.set_xlim(df[col].min(), df[col].max())\n",
    "#     ax.set_ylim(0, None)\n",
    "\n",
    "# plt.show()"
   ]
  },
  {
   "cell_type": "code",
   "execution_count": null,
   "metadata": {},
   "outputs": [],
   "source": [
    "# df = spaceship_titanic_train.copy()\n",
    "# numeric_columns = df.select_dtypes(include=['number']).columns\n",
    "# print(numeric_columns)\n",
    "# nrows = len(numeric_columns)\n",
    "# ncols = 1\n",
    "# _, axes = plt.subplots(nrows, ncols, figsize=(8, 6*nrows))\n",
    "\n",
    "# for i, col in enumerate(numeric_columns):\n",
    "#     ax = axes[i]\n",
    "#     col_median = col + '_median'\n",
    "#     df[col_median] = df[col].fillna(df[col].median())\n",
    "\n",
    "#     df[col].plot(kind='kde', ax=ax, label=f\"{col} original\", color='blue')\n",
    "#     df[col_median].plot(kind='kde', ax=ax, label=f\"{col} median\", color='red')\n",
    "\n",
    "#     ax.set_title(f\"Distribution de {col}\")\n",
    "#     ax.legend()\n",
    "#     ax.set_xlim(df[col].min(), df[col].max())\n",
    "#     ax.set_ylim(0, None)\n",
    "\n",
    "# plt.show()"
   ]
  },
  {
   "cell_type": "code",
   "execution_count": null,
   "metadata": {},
   "outputs": [],
   "source": [
    "df = spaceship_titanic_train.copy()\n",
    "df.isnull().sum().sort_values(ascending=False)"
   ]
  },
  {
   "cell_type": "code",
   "execution_count": null,
   "metadata": {},
   "outputs": [],
   "source": [
    "target_col = 'Transported'\n",
    "for col in df.columns:\n",
    "    if col != target_col:\n",
    "        random_sample = df[col].dropna().sample(df[col].isnull().sum(), random_state=0)\n",
    "        random_sample.index = df[df[col].isnull()].index\n",
    "        df.loc[df[col].isnull(), col] = random_sample\n",
    "\n",
    "df.isnull().sum().sort_values(ascending=False)"
   ]
  },
  {
   "cell_type": "code",
   "execution_count": null,
   "metadata": {},
   "outputs": [],
   "source": [
    "# df.duplicated().sum()\n",
    "# df.drop_duplicates()"
   ]
  },
  {
   "cell_type": "code",
   "execution_count": null,
   "metadata": {},
   "outputs": [],
   "source": [
    "###On convertit les colonnes boolean en entier\n",
    "bool_cols = [target_col, 'CryoSleep', 'VIP']\n",
    "for col in bool_cols:\n",
    "    df[col] = df[col].astype(int)\n",
    "\n",
    "df.head(2)"
   ]
  },
  {
   "cell_type": "code",
   "execution_count": null,
   "metadata": {},
   "outputs": [],
   "source": [
    "###On récupère les variables catégorielles de nos données\n",
    "categorical_features = []\n",
    "for col in df.select_dtypes(object).columns:\n",
    "    categorical_features.append(col)\n",
    "\n",
    "categorical_features"
   ]
  },
  {
   "cell_type": "code",
   "execution_count": null,
   "metadata": {},
   "outputs": [],
   "source": [
    "###Encoder les variables catégorielles via Pandas\n",
    "# df = pd.get_dummies(df, drop_first=True)\n",
    "# df.head(2)\n",
    "\n",
    "\n",
    "###Encoder les variables catégorielles via Scikit-Learn\n",
    "from sklearn.preprocessing import OneHotEncoder\n",
    "from sklearn.compose import ColumnTransformer\n",
    "from sklearn.pipeline import make_pipeline\n",
    "\n",
    "one_hot = OneHotEncoder(handle_unknown='ignore', sparse_output=False)\n",
    "transformed_data = ColumnTransformer(\n",
    "    [('one_hot', one_hot, categorical_features)],\n",
    "    remainder='passthrough'\n",
    ")\n",
    "\n",
    "transformed_data.fit_transform(df)"
   ]
  },
  {
   "cell_type": "code",
   "execution_count": null,
   "metadata": {},
   "outputs": [],
   "source": [
    "###Création des données de test et d'entraînement\n",
    "from sklearn.model_selection import train_test_split\n",
    "X = df.drop(columns=[target_col])\n",
    "y = df[target_col]\n",
    "X_train, X_test, y_train, y_test = train_test_split(X, y, test_size=0.20, random_state=0)\n",
    "\n",
    "### Voir la taille des données subdivisées\n",
    "X_train.shape, X_test.shape, y_train.shape, y_test.shape"
   ]
  },
  {
   "cell_type": "markdown",
   "metadata": {},
   "source": [
    "# 5. Contruction et entraînement de plusieurs modèles"
   ]
  },
  {
   "cell_type": "code",
   "execution_count": null,
   "metadata": {},
   "outputs": [],
   "source": [
    "from sklearn.neighbors import KNeighborsClassifier\n",
    "from sklearn.ensemble import RandomForestClassifier\n",
    "from sklearn.linear_model import LogisticRegression\n",
    "from sklearn.tree import DecisionTreeClassifier\n",
    "from sklearn.svm import SVC\n",
    "\n",
    "from sklearn.model_selection import GridSearchCV, RandomizedSearchCV"
   ]
  },
  {
   "cell_type": "code",
   "execution_count": null,
   "metadata": {},
   "outputs": [],
   "source": [
    "# from sklearn.metrics import accuracy_score\n",
    "# knn = KNeighborsClassifier(\n",
    "#     n_neighbors=100,\n",
    "#     # weights='distance',\n",
    "#     # n_jobs=100\n",
    "# )\n",
    "# knn.fit(X_train, y_train)\n",
    "# y_pred_knn = knn.predict(X_test)\n",
    "# from sklearn.metrics import accuracy_score\n",
    "# accuracy_knn = accuracy_score(y_test, y_pred_knn)\n",
    "# accuracy_knn"
   ]
  },
  {
   "cell_type": "code",
   "execution_count": null,
   "metadata": {},
   "outputs": [],
   "source": [
    "# rf = RandomForestClassifier(\n",
    "#     n_estimators=100,\n",
    "#     n_jobs=3,\n",
    "#     random_state=0\n",
    "# )\n",
    "# rf.fit(X_train, y_train)\n",
    "# y_pred_rf = rf.predict(X_test)\n",
    "# accuracy_rf = accuracy_score(y_test, y_pred_rf)\n",
    "# accuracy_rf"
   ]
  },
  {
   "cell_type": "code",
   "execution_count": null,
   "metadata": {},
   "outputs": [],
   "source": [
    "###Definir plusieurs modèles avec ces hyperparamètres\n",
    "models = [\n",
    "    # (\n",
    "    #     'KNeighborsClassifier',\n",
    "    #     KNeighborsClassifier(),\n",
    "    #     {\n",
    "    #         'kneighborsclassifier__n_neighbors': [5, 10, 50, 100],\n",
    "    #         'kneighborsclassifier__weights': ['uniform', \"distance\"],\n",
    "    #         'kneighborsclassifier__n_jobs': [1, 2]\n",
    "    #     }\n",
    "    # ),\n",
    "    # (\n",
    "    #     'RandomForestClassifier',\n",
    "    #     RandomForestClassifier(),\n",
    "    #     {\n",
    "    #         'randomforestclassifier__criterion': ['gini', 'entropy'],\n",
    "    #         'randomforestclassifier__n_estimators': [100, 200, 300],\n",
    "    #         'randomforestclassifier__max_features': ['sqrt', 'log2'],\n",
    "    #         'randomforestclassifier__max_depth': [None]\n",
    "    #     }\n",
    "    # ),\n",
    "    # (\n",
    "    #     'LogisticRegression',\n",
    "    #     LogisticRegression(),\n",
    "    #     {\n",
    "    #         'penalty': [None, 'l1', 'l2', 'elasticnet'],\n",
    "    #         'solver': ['lbfgs', 'newton-cg', 'newton-cholesky', 'sag', 'saga'],\n",
    "    #         'max_iter': [1000, 2000, 3000]\n",
    "    #     }\n",
    "    # ),\n",
    "    # (\n",
    "    #     'DecisionTreeClassifier',\n",
    "    #     DecisionTreeClassifier(),\n",
    "    #     {\n",
    "    #         'decisiontreeclassifier__criterion': ['gini', 'entropy'],\n",
    "    #         'decisiontreeclassifier__splitter': ['best', 'random'],\n",
    "    #         'decisiontreeclassifier__max_features': [None, 'sqrt', 'log2'],\n",
    "    #         'decisiontreeclassifier__max_depth': [None, 10, 20, 30, 40, 50]\n",
    "    #     }\n",
    "    # ),\n",
    "    (\n",
    "        'SVC',\n",
    "        SVC(),\n",
    "        {\n",
    "            'svc__kernel': ['linear', 'poly', 'rbf', 'sigmoid', 'precomputed'],\n",
    "            'svc__decision_function_shape': ['ovo', 'ovr'],\n",
    "            'svc__break_ties': [False, True]\n",
    "        }\n",
    "    ),\n",
    "]"
   ]
  },
  {
   "cell_type": "code",
   "execution_count": null,
   "metadata": {},
   "outputs": [],
   "source": [
    "models_score_results = []\n",
    "for name, model, parameters in models:\n",
    "    _pipeline = make_pipeline(transformed_data, model)\n",
    "    print(name)\n",
    "    print(_pipeline.get_params().keys())\n",
    "    gridSearchCV = GridSearchCV(_pipeline, parameters, verbose=3)\n",
    "    gridSearchCV.fit(X_train, y_train)\n",
    "    models_score_results.append((name, gridSearchCV.best_params_, gridSearchCV.best_score_))\n",
    "    print('\\n')"
   ]
  },
  {
   "cell_type": "code",
   "execution_count": null,
   "metadata": {},
   "outputs": [],
   "source": [
    "models_score_results"
   ]
  },
  {
   "cell_type": "code",
   "execution_count": null,
   "metadata": {},
   "outputs": [],
   "source": [
    "# models_score_results = []\n",
    "# for name, model, parameters in models:\n",
    "#     _pipeline = make_pipeline(transformed_data, model)\n",
    "#     print(name)\n",
    "#     print(_pipeline.get_params().keys())\n",
    "#     randomizedSearchCV = RandomizedSearchCV(_pipeline, parameters, verbose=3, n_iter=20)\n",
    "#     randomizedSearchCV.fit(X_train, y_train)\n",
    "#     models_score_results.append((name, randomizedSearchCV.best_params_, randomizedSearchCV.best_score_))\n",
    "#     print('\\n')"
   ]
  },
  {
   "cell_type": "code",
   "execution_count": null,
   "metadata": {},
   "outputs": [],
   "source": [
    "# models_score_results"
   ]
  },
  {
   "cell_type": "code",
   "execution_count": null,
   "metadata": {},
   "outputs": [],
   "source": []
  }
 ],
 "metadata": {
  "kernelspec": {
   "display_name": "Python 3",
   "language": "python",
   "name": "python3"
  },
  "language_info": {
   "codemirror_mode": {
    "name": "ipython",
    "version": 3
   },
   "file_extension": ".py",
   "mimetype": "text/x-python",
   "name": "python",
   "nbconvert_exporter": "python",
   "pygments_lexer": "ipython3",
   "version": "3.11.8"
  }
 },
 "nbformat": 4,
 "nbformat_minor": 2
}
