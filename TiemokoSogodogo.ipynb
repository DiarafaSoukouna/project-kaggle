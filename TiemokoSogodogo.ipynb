{
 "cells": [
  {
   "cell_type": "markdown",
   "metadata": {},
   "source": [
    "# 1. Importation des librairies"
   ]
  },
  {
   "cell_type": "code",
   "execution_count": 28,
   "metadata": {},
   "outputs": [],
   "source": [
    "import pandas as pd\n",
    "import matplotlib.pyplot as plt\n",
    "import seaborn as sns"
   ]
  },
  {
   "cell_type": "markdown",
   "metadata": {},
   "source": [
    "# 2. Chargement des données"
   ]
  },
  {
   "cell_type": "code",
   "execution_count": 29,
   "metadata": {},
   "outputs": [
    {
     "name": "stdout",
     "output_type": "stream",
     "text": [
      "La taille (Lignes et colonnes) de l'ensemble des données d'entraînement : (8693, 14)\n"
     ]
    }
   ],
   "source": [
    "###Chargement des données dans un Dataframe Pandas\n",
    "spaceship_titanic_train = pd.read_csv('train.csv')\n",
    "print(f\"La taille (Lignes et colonnes) de l'ensemble des données d'entraînement : {spaceship_titanic_train.shape}\")"
   ]
  },
  {
   "cell_type": "code",
   "execution_count": 30,
   "metadata": {},
   "outputs": [
    {
     "data": {
      "text/html": [
       "<div>\n",
       "<style scoped>\n",
       "    .dataframe tbody tr th:only-of-type {\n",
       "        vertical-align: middle;\n",
       "    }\n",
       "\n",
       "    .dataframe tbody tr th {\n",
       "        vertical-align: top;\n",
       "    }\n",
       "\n",
       "    .dataframe thead th {\n",
       "        text-align: right;\n",
       "    }\n",
       "</style>\n",
       "<table border=\"1\" class=\"dataframe\">\n",
       "  <thead>\n",
       "    <tr style=\"text-align: right;\">\n",
       "      <th></th>\n",
       "      <th>PassengerId</th>\n",
       "      <th>HomePlanet</th>\n",
       "      <th>CryoSleep</th>\n",
       "      <th>Cabin</th>\n",
       "      <th>Destination</th>\n",
       "      <th>Age</th>\n",
       "      <th>VIP</th>\n",
       "      <th>RoomService</th>\n",
       "      <th>FoodCourt</th>\n",
       "      <th>ShoppingMall</th>\n",
       "      <th>Spa</th>\n",
       "      <th>VRDeck</th>\n",
       "      <th>Name</th>\n",
       "      <th>Transported</th>\n",
       "    </tr>\n",
       "  </thead>\n",
       "  <tbody>\n",
       "    <tr>\n",
       "      <th>0</th>\n",
       "      <td>0001_01</td>\n",
       "      <td>Europa</td>\n",
       "      <td>False</td>\n",
       "      <td>B/0/P</td>\n",
       "      <td>TRAPPIST-1e</td>\n",
       "      <td>39.0</td>\n",
       "      <td>False</td>\n",
       "      <td>0.0</td>\n",
       "      <td>0.0</td>\n",
       "      <td>0.0</td>\n",
       "      <td>0.0</td>\n",
       "      <td>0.0</td>\n",
       "      <td>Maham Ofracculy</td>\n",
       "      <td>False</td>\n",
       "    </tr>\n",
       "    <tr>\n",
       "      <th>1</th>\n",
       "      <td>0002_01</td>\n",
       "      <td>Earth</td>\n",
       "      <td>False</td>\n",
       "      <td>F/0/S</td>\n",
       "      <td>TRAPPIST-1e</td>\n",
       "      <td>24.0</td>\n",
       "      <td>False</td>\n",
       "      <td>109.0</td>\n",
       "      <td>9.0</td>\n",
       "      <td>25.0</td>\n",
       "      <td>549.0</td>\n",
       "      <td>44.0</td>\n",
       "      <td>Juanna Vines</td>\n",
       "      <td>True</td>\n",
       "    </tr>\n",
       "    <tr>\n",
       "      <th>2</th>\n",
       "      <td>0003_01</td>\n",
       "      <td>Europa</td>\n",
       "      <td>False</td>\n",
       "      <td>A/0/S</td>\n",
       "      <td>TRAPPIST-1e</td>\n",
       "      <td>58.0</td>\n",
       "      <td>True</td>\n",
       "      <td>43.0</td>\n",
       "      <td>3576.0</td>\n",
       "      <td>0.0</td>\n",
       "      <td>6715.0</td>\n",
       "      <td>49.0</td>\n",
       "      <td>Altark Susent</td>\n",
       "      <td>False</td>\n",
       "    </tr>\n",
       "    <tr>\n",
       "      <th>3</th>\n",
       "      <td>0003_02</td>\n",
       "      <td>Europa</td>\n",
       "      <td>False</td>\n",
       "      <td>A/0/S</td>\n",
       "      <td>TRAPPIST-1e</td>\n",
       "      <td>33.0</td>\n",
       "      <td>False</td>\n",
       "      <td>0.0</td>\n",
       "      <td>1283.0</td>\n",
       "      <td>371.0</td>\n",
       "      <td>3329.0</td>\n",
       "      <td>193.0</td>\n",
       "      <td>Solam Susent</td>\n",
       "      <td>False</td>\n",
       "    </tr>\n",
       "    <tr>\n",
       "      <th>4</th>\n",
       "      <td>0004_01</td>\n",
       "      <td>Earth</td>\n",
       "      <td>False</td>\n",
       "      <td>F/1/S</td>\n",
       "      <td>TRAPPIST-1e</td>\n",
       "      <td>16.0</td>\n",
       "      <td>False</td>\n",
       "      <td>303.0</td>\n",
       "      <td>70.0</td>\n",
       "      <td>151.0</td>\n",
       "      <td>565.0</td>\n",
       "      <td>2.0</td>\n",
       "      <td>Willy Santantines</td>\n",
       "      <td>True</td>\n",
       "    </tr>\n",
       "  </tbody>\n",
       "</table>\n",
       "</div>"
      ],
      "text/plain": [
       "  PassengerId HomePlanet CryoSleep  Cabin  Destination   Age    VIP  \\\n",
       "0     0001_01     Europa     False  B/0/P  TRAPPIST-1e  39.0  False   \n",
       "1     0002_01      Earth     False  F/0/S  TRAPPIST-1e  24.0  False   \n",
       "2     0003_01     Europa     False  A/0/S  TRAPPIST-1e  58.0   True   \n",
       "3     0003_02     Europa     False  A/0/S  TRAPPIST-1e  33.0  False   \n",
       "4     0004_01      Earth     False  F/1/S  TRAPPIST-1e  16.0  False   \n",
       "\n",
       "   RoomService  FoodCourt  ShoppingMall     Spa  VRDeck               Name  \\\n",
       "0          0.0        0.0           0.0     0.0     0.0    Maham Ofracculy   \n",
       "1        109.0        9.0          25.0   549.0    44.0       Juanna Vines   \n",
       "2         43.0     3576.0           0.0  6715.0    49.0      Altark Susent   \n",
       "3          0.0     1283.0         371.0  3329.0   193.0       Solam Susent   \n",
       "4        303.0       70.0         151.0   565.0     2.0  Willy Santantines   \n",
       "\n",
       "   Transported  \n",
       "0        False  \n",
       "1         True  \n",
       "2        False  \n",
       "3        False  \n",
       "4         True  "
      ]
     },
     "execution_count": 30,
     "metadata": {},
     "output_type": "execute_result"
    }
   ],
   "source": [
    "###Affichons les 5 premiers exemples\n",
    "###dataset_df.head() ou\n",
    "spaceship_titanic_train.head(5)"
   ]
  },
  {
   "cell_type": "markdown",
   "metadata": {},
   "source": [
    "# 3. Explorations et visualisations de nos données"
   ]
  },
  {
   "cell_type": "code",
   "execution_count": 31,
   "metadata": {},
   "outputs": [
    {
     "data": {
      "text/html": [
       "<div>\n",
       "<style scoped>\n",
       "    .dataframe tbody tr th:only-of-type {\n",
       "        vertical-align: middle;\n",
       "    }\n",
       "\n",
       "    .dataframe tbody tr th {\n",
       "        vertical-align: top;\n",
       "    }\n",
       "\n",
       "    .dataframe thead th {\n",
       "        text-align: right;\n",
       "    }\n",
       "</style>\n",
       "<table border=\"1\" class=\"dataframe\">\n",
       "  <thead>\n",
       "    <tr style=\"text-align: right;\">\n",
       "      <th></th>\n",
       "      <th>Age</th>\n",
       "      <th>RoomService</th>\n",
       "      <th>FoodCourt</th>\n",
       "      <th>ShoppingMall</th>\n",
       "      <th>Spa</th>\n",
       "      <th>VRDeck</th>\n",
       "    </tr>\n",
       "  </thead>\n",
       "  <tbody>\n",
       "    <tr>\n",
       "      <th>count</th>\n",
       "      <td>8514.000000</td>\n",
       "      <td>8512.000000</td>\n",
       "      <td>8510.000000</td>\n",
       "      <td>8485.000000</td>\n",
       "      <td>8510.000000</td>\n",
       "      <td>8505.000000</td>\n",
       "    </tr>\n",
       "    <tr>\n",
       "      <th>mean</th>\n",
       "      <td>28.827930</td>\n",
       "      <td>224.687617</td>\n",
       "      <td>458.077203</td>\n",
       "      <td>173.729169</td>\n",
       "      <td>311.138778</td>\n",
       "      <td>304.854791</td>\n",
       "    </tr>\n",
       "    <tr>\n",
       "      <th>std</th>\n",
       "      <td>14.489021</td>\n",
       "      <td>666.717663</td>\n",
       "      <td>1611.489240</td>\n",
       "      <td>604.696458</td>\n",
       "      <td>1136.705535</td>\n",
       "      <td>1145.717189</td>\n",
       "    </tr>\n",
       "    <tr>\n",
       "      <th>min</th>\n",
       "      <td>0.000000</td>\n",
       "      <td>0.000000</td>\n",
       "      <td>0.000000</td>\n",
       "      <td>0.000000</td>\n",
       "      <td>0.000000</td>\n",
       "      <td>0.000000</td>\n",
       "    </tr>\n",
       "    <tr>\n",
       "      <th>25%</th>\n",
       "      <td>19.000000</td>\n",
       "      <td>0.000000</td>\n",
       "      <td>0.000000</td>\n",
       "      <td>0.000000</td>\n",
       "      <td>0.000000</td>\n",
       "      <td>0.000000</td>\n",
       "    </tr>\n",
       "    <tr>\n",
       "      <th>50%</th>\n",
       "      <td>27.000000</td>\n",
       "      <td>0.000000</td>\n",
       "      <td>0.000000</td>\n",
       "      <td>0.000000</td>\n",
       "      <td>0.000000</td>\n",
       "      <td>0.000000</td>\n",
       "    </tr>\n",
       "    <tr>\n",
       "      <th>75%</th>\n",
       "      <td>38.000000</td>\n",
       "      <td>47.000000</td>\n",
       "      <td>76.000000</td>\n",
       "      <td>27.000000</td>\n",
       "      <td>59.000000</td>\n",
       "      <td>46.000000</td>\n",
       "    </tr>\n",
       "    <tr>\n",
       "      <th>max</th>\n",
       "      <td>79.000000</td>\n",
       "      <td>14327.000000</td>\n",
       "      <td>29813.000000</td>\n",
       "      <td>23492.000000</td>\n",
       "      <td>22408.000000</td>\n",
       "      <td>24133.000000</td>\n",
       "    </tr>\n",
       "  </tbody>\n",
       "</table>\n",
       "</div>"
      ],
      "text/plain": [
       "               Age   RoomService     FoodCourt  ShoppingMall           Spa  \\\n",
       "count  8514.000000   8512.000000   8510.000000   8485.000000   8510.000000   \n",
       "mean     28.827930    224.687617    458.077203    173.729169    311.138778   \n",
       "std      14.489021    666.717663   1611.489240    604.696458   1136.705535   \n",
       "min       0.000000      0.000000      0.000000      0.000000      0.000000   \n",
       "25%      19.000000      0.000000      0.000000      0.000000      0.000000   \n",
       "50%      27.000000      0.000000      0.000000      0.000000      0.000000   \n",
       "75%      38.000000     47.000000     76.000000     27.000000     59.000000   \n",
       "max      79.000000  14327.000000  29813.000000  23492.000000  22408.000000   \n",
       "\n",
       "             VRDeck  \n",
       "count   8505.000000  \n",
       "mean     304.854791  \n",
       "std     1145.717189  \n",
       "min        0.000000  \n",
       "25%        0.000000  \n",
       "50%        0.000000  \n",
       "75%       46.000000  \n",
       "max    24133.000000  "
      ]
     },
     "execution_count": 31,
     "metadata": {},
     "output_type": "execute_result"
    }
   ],
   "source": [
    "###On peut constater que la moyenne d'âge est de 28 (28.827 ~ 28), dont le maximum est 79 ans.\n",
    "###Avec 8514 exemples\n",
    "spaceship_titanic_train.describe()"
   ]
  },
  {
   "cell_type": "code",
   "execution_count": 32,
   "metadata": {},
   "outputs": [
    {
     "data": {
      "text/html": [
       "<div>\n",
       "<style scoped>\n",
       "    .dataframe tbody tr th:only-of-type {\n",
       "        vertical-align: middle;\n",
       "    }\n",
       "\n",
       "    .dataframe tbody tr th {\n",
       "        vertical-align: top;\n",
       "    }\n",
       "\n",
       "    .dataframe thead th {\n",
       "        text-align: right;\n",
       "    }\n",
       "</style>\n",
       "<table border=\"1\" class=\"dataframe\">\n",
       "  <thead>\n",
       "    <tr style=\"text-align: right;\">\n",
       "      <th></th>\n",
       "      <th>PassengerId</th>\n",
       "      <th>HomePlanet</th>\n",
       "      <th>CryoSleep</th>\n",
       "      <th>Cabin</th>\n",
       "      <th>Destination</th>\n",
       "      <th>Age</th>\n",
       "      <th>VIP</th>\n",
       "      <th>RoomService</th>\n",
       "      <th>FoodCourt</th>\n",
       "      <th>ShoppingMall</th>\n",
       "      <th>Spa</th>\n",
       "      <th>VRDeck</th>\n",
       "      <th>Name</th>\n",
       "      <th>Transported</th>\n",
       "    </tr>\n",
       "  </thead>\n",
       "  <tbody>\n",
       "    <tr>\n",
       "      <th>0</th>\n",
       "      <td>0001_01</td>\n",
       "      <td>Europa</td>\n",
       "      <td>False</td>\n",
       "      <td>B/0/P</td>\n",
       "      <td>TRAPPIST-1e</td>\n",
       "      <td>39.0</td>\n",
       "      <td>False</td>\n",
       "      <td>0.0</td>\n",
       "      <td>0.0</td>\n",
       "      <td>0.0</td>\n",
       "      <td>0.0</td>\n",
       "      <td>0.0</td>\n",
       "      <td>Maham Ofracculy</td>\n",
       "      <td>False</td>\n",
       "    </tr>\n",
       "    <tr>\n",
       "      <th>1</th>\n",
       "      <td>0002_01</td>\n",
       "      <td>Earth</td>\n",
       "      <td>False</td>\n",
       "      <td>F/0/S</td>\n",
       "      <td>TRAPPIST-1e</td>\n",
       "      <td>24.0</td>\n",
       "      <td>False</td>\n",
       "      <td>109.0</td>\n",
       "      <td>9.0</td>\n",
       "      <td>25.0</td>\n",
       "      <td>549.0</td>\n",
       "      <td>44.0</td>\n",
       "      <td>Juanna Vines</td>\n",
       "      <td>True</td>\n",
       "    </tr>\n",
       "    <tr>\n",
       "      <th>2</th>\n",
       "      <td>0003_01</td>\n",
       "      <td>Europa</td>\n",
       "      <td>False</td>\n",
       "      <td>A/0/S</td>\n",
       "      <td>TRAPPIST-1e</td>\n",
       "      <td>58.0</td>\n",
       "      <td>True</td>\n",
       "      <td>43.0</td>\n",
       "      <td>3576.0</td>\n",
       "      <td>0.0</td>\n",
       "      <td>6715.0</td>\n",
       "      <td>49.0</td>\n",
       "      <td>Altark Susent</td>\n",
       "      <td>False</td>\n",
       "    </tr>\n",
       "    <tr>\n",
       "      <th>3</th>\n",
       "      <td>0003_02</td>\n",
       "      <td>Europa</td>\n",
       "      <td>False</td>\n",
       "      <td>A/0/S</td>\n",
       "      <td>TRAPPIST-1e</td>\n",
       "      <td>33.0</td>\n",
       "      <td>False</td>\n",
       "      <td>0.0</td>\n",
       "      <td>1283.0</td>\n",
       "      <td>371.0</td>\n",
       "      <td>3329.0</td>\n",
       "      <td>193.0</td>\n",
       "      <td>Solam Susent</td>\n",
       "      <td>False</td>\n",
       "    </tr>\n",
       "    <tr>\n",
       "      <th>4</th>\n",
       "      <td>0004_01</td>\n",
       "      <td>Earth</td>\n",
       "      <td>False</td>\n",
       "      <td>F/1/S</td>\n",
       "      <td>TRAPPIST-1e</td>\n",
       "      <td>16.0</td>\n",
       "      <td>False</td>\n",
       "      <td>303.0</td>\n",
       "      <td>70.0</td>\n",
       "      <td>151.0</td>\n",
       "      <td>565.0</td>\n",
       "      <td>2.0</td>\n",
       "      <td>Willy Santantines</td>\n",
       "      <td>True</td>\n",
       "    </tr>\n",
       "    <tr>\n",
       "      <th>...</th>\n",
       "      <td>...</td>\n",
       "      <td>...</td>\n",
       "      <td>...</td>\n",
       "      <td>...</td>\n",
       "      <td>...</td>\n",
       "      <td>...</td>\n",
       "      <td>...</td>\n",
       "      <td>...</td>\n",
       "      <td>...</td>\n",
       "      <td>...</td>\n",
       "      <td>...</td>\n",
       "      <td>...</td>\n",
       "      <td>...</td>\n",
       "      <td>...</td>\n",
       "    </tr>\n",
       "    <tr>\n",
       "      <th>8688</th>\n",
       "      <td>9276_01</td>\n",
       "      <td>Europa</td>\n",
       "      <td>False</td>\n",
       "      <td>A/98/P</td>\n",
       "      <td>55 Cancri e</td>\n",
       "      <td>41.0</td>\n",
       "      <td>True</td>\n",
       "      <td>0.0</td>\n",
       "      <td>6819.0</td>\n",
       "      <td>0.0</td>\n",
       "      <td>1643.0</td>\n",
       "      <td>74.0</td>\n",
       "      <td>Gravior Noxnuther</td>\n",
       "      <td>False</td>\n",
       "    </tr>\n",
       "    <tr>\n",
       "      <th>8689</th>\n",
       "      <td>9278_01</td>\n",
       "      <td>Earth</td>\n",
       "      <td>True</td>\n",
       "      <td>G/1499/S</td>\n",
       "      <td>PSO J318.5-22</td>\n",
       "      <td>18.0</td>\n",
       "      <td>False</td>\n",
       "      <td>0.0</td>\n",
       "      <td>0.0</td>\n",
       "      <td>0.0</td>\n",
       "      <td>0.0</td>\n",
       "      <td>0.0</td>\n",
       "      <td>Kurta Mondalley</td>\n",
       "      <td>False</td>\n",
       "    </tr>\n",
       "    <tr>\n",
       "      <th>8690</th>\n",
       "      <td>9279_01</td>\n",
       "      <td>Earth</td>\n",
       "      <td>False</td>\n",
       "      <td>G/1500/S</td>\n",
       "      <td>TRAPPIST-1e</td>\n",
       "      <td>26.0</td>\n",
       "      <td>False</td>\n",
       "      <td>0.0</td>\n",
       "      <td>0.0</td>\n",
       "      <td>1872.0</td>\n",
       "      <td>1.0</td>\n",
       "      <td>0.0</td>\n",
       "      <td>Fayey Connon</td>\n",
       "      <td>True</td>\n",
       "    </tr>\n",
       "    <tr>\n",
       "      <th>8691</th>\n",
       "      <td>9280_01</td>\n",
       "      <td>Europa</td>\n",
       "      <td>False</td>\n",
       "      <td>E/608/S</td>\n",
       "      <td>55 Cancri e</td>\n",
       "      <td>32.0</td>\n",
       "      <td>False</td>\n",
       "      <td>0.0</td>\n",
       "      <td>1049.0</td>\n",
       "      <td>0.0</td>\n",
       "      <td>353.0</td>\n",
       "      <td>3235.0</td>\n",
       "      <td>Celeon Hontichre</td>\n",
       "      <td>False</td>\n",
       "    </tr>\n",
       "    <tr>\n",
       "      <th>8692</th>\n",
       "      <td>9280_02</td>\n",
       "      <td>Europa</td>\n",
       "      <td>False</td>\n",
       "      <td>E/608/S</td>\n",
       "      <td>TRAPPIST-1e</td>\n",
       "      <td>44.0</td>\n",
       "      <td>False</td>\n",
       "      <td>126.0</td>\n",
       "      <td>4688.0</td>\n",
       "      <td>0.0</td>\n",
       "      <td>0.0</td>\n",
       "      <td>12.0</td>\n",
       "      <td>Propsh Hontichre</td>\n",
       "      <td>True</td>\n",
       "    </tr>\n",
       "  </tbody>\n",
       "</table>\n",
       "<p>8693 rows × 14 columns</p>\n",
       "</div>"
      ],
      "text/plain": [
       "     PassengerId HomePlanet CryoSleep     Cabin    Destination   Age    VIP  \\\n",
       "0        0001_01     Europa     False     B/0/P    TRAPPIST-1e  39.0  False   \n",
       "1        0002_01      Earth     False     F/0/S    TRAPPIST-1e  24.0  False   \n",
       "2        0003_01     Europa     False     A/0/S    TRAPPIST-1e  58.0   True   \n",
       "3        0003_02     Europa     False     A/0/S    TRAPPIST-1e  33.0  False   \n",
       "4        0004_01      Earth     False     F/1/S    TRAPPIST-1e  16.0  False   \n",
       "...          ...        ...       ...       ...            ...   ...    ...   \n",
       "8688     9276_01     Europa     False    A/98/P    55 Cancri e  41.0   True   \n",
       "8689     9278_01      Earth      True  G/1499/S  PSO J318.5-22  18.0  False   \n",
       "8690     9279_01      Earth     False  G/1500/S    TRAPPIST-1e  26.0  False   \n",
       "8691     9280_01     Europa     False   E/608/S    55 Cancri e  32.0  False   \n",
       "8692     9280_02     Europa     False   E/608/S    TRAPPIST-1e  44.0  False   \n",
       "\n",
       "      RoomService  FoodCourt  ShoppingMall     Spa  VRDeck               Name  \\\n",
       "0             0.0        0.0           0.0     0.0     0.0    Maham Ofracculy   \n",
       "1           109.0        9.0          25.0   549.0    44.0       Juanna Vines   \n",
       "2            43.0     3576.0           0.0  6715.0    49.0      Altark Susent   \n",
       "3             0.0     1283.0         371.0  3329.0   193.0       Solam Susent   \n",
       "4           303.0       70.0         151.0   565.0     2.0  Willy Santantines   \n",
       "...           ...        ...           ...     ...     ...                ...   \n",
       "8688          0.0     6819.0           0.0  1643.0    74.0  Gravior Noxnuther   \n",
       "8689          0.0        0.0           0.0     0.0     0.0    Kurta Mondalley   \n",
       "8690          0.0        0.0        1872.0     1.0     0.0       Fayey Connon   \n",
       "8691          0.0     1049.0           0.0   353.0  3235.0   Celeon Hontichre   \n",
       "8692        126.0     4688.0           0.0     0.0    12.0   Propsh Hontichre   \n",
       "\n",
       "      Transported  \n",
       "0           False  \n",
       "1            True  \n",
       "2           False  \n",
       "3           False  \n",
       "4            True  \n",
       "...           ...  \n",
       "8688        False  \n",
       "8689        False  \n",
       "8690         True  \n",
       "8691        False  \n",
       "8692         True  \n",
       "\n",
       "[8693 rows x 14 columns]"
      ]
     },
     "execution_count": 32,
     "metadata": {},
     "output_type": "execute_result"
    }
   ],
   "source": [
    "###Voir le DataFrame\n",
    "spaceship_titanic_train"
   ]
  },
  {
   "cell_type": "code",
   "execution_count": 33,
   "metadata": {},
   "outputs": [
    {
     "data": {
      "text/plain": [
       "Text(0, 0.5, 'Nombre')"
      ]
     },
     "execution_count": 33,
     "metadata": {},
     "output_type": "execute_result"
    },
    {
     "data": {
      "image/png": "[encoded data removed]",
      "text/plain": [
       "<Figure size 640x480 with 1 Axes>"
      ]
     },
     "metadata": {},
     "output_type": "display_data"
    }
   ],
   "source": [
    "###Les nombre de passagers transportés (True) et non transportés (False) sont presque identiques\n",
    "###Dans nos données d'entraînement\n",
    "ax = sns.countplot(spaceship_titanic_train, x='Transported')\n",
    "ax.set_title('Nombre de passagers transportés et non transportés')\n",
    "ax.set_xlabel('Passagers transportés')\n",
    "ax.set_ylabel('Nombre')"
   ]
  },
  {
   "cell_type": "code",
   "execution_count": 34,
   "metadata": {},
   "outputs": [
    {
     "data": {
      "text/plain": [
       "Text(0.5, 1.0, \"Distribution de l'âge\")"
      ]
     },
     "execution_count": 34,
     "metadata": {},
     "output_type": "execute_result"
    },
    {
     "data": {
      "image/png": "[encoded data removed]",
      "text/plain": [
       "<Figure size 640x480 with 1 Axes>"
      ]
     },
     "metadata": {},
     "output_type": "display_data"
    }
   ],
   "source": [
    "###Distribution de l'âge par rapport\n",
    "###aux passagers transportés (True) et non transportés (False)\n",
    "###\n",
    "###On verra que les passagers de :\n",
    "###0-18 ans étaient plus susceptibles d'être transportés que de ne pas l'être.\n",
    "###18-25 ans étaient moins susceptibles d'être transportés que de ne pas l'être.\n",
    "###Les plus de 25 ans ont à peu près autant de chances d'être transportés que de ne pas l'être.\n",
    "sns.histplot(data=spaceship_titanic_train, x='Age', hue='Transported', binwidth=1, kde=True)\n",
    "plt.title('Distribution de l\\'âge')"
   ]
  },
  {
   "cell_type": "code",
   "execution_count": 35,
   "metadata": {},
   "outputs": [
    {
     "name": "stdout",
     "output_type": "stream",
     "text": [
      "<class 'pandas.core.frame.DataFrame'>\n",
      "RangeIndex: 8693 entries, 0 to 8692\n",
      "Data columns (total 14 columns):\n",
      " #   Column        Non-Null Count  Dtype  \n",
      "---  ------        --------------  -----  \n",
      " 0   PassengerId   8693 non-null   object \n",
      " 1   HomePlanet    8492 non-null   object \n",
      " 2   CryoSleep     8476 non-null   object \n",
      " 3   Cabin         8494 non-null   object \n",
      " 4   Destination   8511 non-null   object \n",
      " 5   Age           8514 non-null   float64\n",
      " 6   VIP           8490 non-null   object \n",
      " 7   RoomService   8512 non-null   float64\n",
      " 8   FoodCourt     8510 non-null   float64\n",
      " 9   ShoppingMall  8485 non-null   float64\n",
      " 10  Spa           8510 non-null   float64\n",
      " 11  VRDeck        8505 non-null   float64\n",
      " 12  Name          8493 non-null   object \n",
      " 13  Transported   8693 non-null   bool   \n",
      "dtypes: bool(1), float64(6), object(7)\n",
      "memory usage: 891.5+ KB\n"
     ]
    }
   ],
   "source": [
    "###Les informations sur le DataFrame,\n",
    "###Notamment le type d'index et les colonnes, les valeurs non nulles\n",
    "###Et l'utilisation de la mémoire.\n",
    "spaceship_titanic_train.info()"
   ]
  },
  {
   "cell_type": "markdown",
   "metadata": {},
   "source": [
    "# 4. Préparation de nos données"
   ]
  },
  {
   "cell_type": "code",
   "execution_count": 36,
   "metadata": {},
   "outputs": [
    {
     "data": {
      "text/html": [
       "<div>\n",
       "<style scoped>\n",
       "    .dataframe tbody tr th:only-of-type {\n",
       "        vertical-align: middle;\n",
       "    }\n",
       "\n",
       "    .dataframe tbody tr th {\n",
       "        vertical-align: top;\n",
       "    }\n",
       "\n",
       "    .dataframe thead th {\n",
       "        text-align: right;\n",
       "    }\n",
       "</style>\n",
       "<table border=\"1\" class=\"dataframe\">\n",
       "  <thead>\n",
       "    <tr style=\"text-align: right;\">\n",
       "      <th></th>\n",
       "      <th>HomePlanet</th>\n",
       "      <th>CryoSleep</th>\n",
       "      <th>Cabin</th>\n",
       "      <th>Destination</th>\n",
       "      <th>Age</th>\n",
       "      <th>VIP</th>\n",
       "      <th>RoomService</th>\n",
       "      <th>FoodCourt</th>\n",
       "      <th>ShoppingMall</th>\n",
       "      <th>Spa</th>\n",
       "      <th>VRDeck</th>\n",
       "      <th>Transported</th>\n",
       "    </tr>\n",
       "  </thead>\n",
       "  <tbody>\n",
       "    <tr>\n",
       "      <th>0</th>\n",
       "      <td>Europa</td>\n",
       "      <td>False</td>\n",
       "      <td>B/0/P</td>\n",
       "      <td>TRAPPIST-1e</td>\n",
       "      <td>39.0</td>\n",
       "      <td>False</td>\n",
       "      <td>0.0</td>\n",
       "      <td>0.0</td>\n",
       "      <td>0.0</td>\n",
       "      <td>0.0</td>\n",
       "      <td>0.0</td>\n",
       "      <td>False</td>\n",
       "    </tr>\n",
       "    <tr>\n",
       "      <th>1</th>\n",
       "      <td>Earth</td>\n",
       "      <td>False</td>\n",
       "      <td>F/0/S</td>\n",
       "      <td>TRAPPIST-1e</td>\n",
       "      <td>24.0</td>\n",
       "      <td>False</td>\n",
       "      <td>109.0</td>\n",
       "      <td>9.0</td>\n",
       "      <td>25.0</td>\n",
       "      <td>549.0</td>\n",
       "      <td>44.0</td>\n",
       "      <td>True</td>\n",
       "    </tr>\n",
       "  </tbody>\n",
       "</table>\n",
       "</div>"
      ],
      "text/plain": [
       "  HomePlanet CryoSleep  Cabin  Destination   Age    VIP  RoomService  \\\n",
       "0     Europa     False  B/0/P  TRAPPIST-1e  39.0  False          0.0   \n",
       "1      Earth     False  F/0/S  TRAPPIST-1e  24.0  False        109.0   \n",
       "\n",
       "   FoodCourt  ShoppingMall    Spa  VRDeck  Transported  \n",
       "0        0.0           0.0    0.0     0.0        False  \n",
       "1        9.0          25.0  549.0    44.0         True  "
      ]
     },
     "execution_count": 36,
     "metadata": {},
     "output_type": "execute_result"
    }
   ],
   "source": [
    "###Suppression des colonnes non importantes pour nos données d'entraînement\n",
    "spaceship_titanic_train = spaceship_titanic_train.drop(['PassengerId', 'Name'], axis=1)\n",
    "spaceship_titanic_train.head(2)"
   ]
  },
  {
   "cell_type": "code",
   "execution_count": 37,
   "metadata": {},
   "outputs": [
    {
     "data": {
      "text/plain": [
       "CryoSleep       217\n",
       "ShoppingMall    208\n",
       "VIP             203\n",
       "HomePlanet      201\n",
       "Cabin           199\n",
       "VRDeck          188\n",
       "FoodCourt       183\n",
       "Spa             183\n",
       "Destination     182\n",
       "RoomService     181\n",
       "Age             179\n",
       "Transported       0\n",
       "dtype: int64"
      ]
     },
     "execution_count": 37,
     "metadata": {},
     "output_type": "execute_result"
    }
   ],
   "source": [
    "###Voir le nombre de valeurs manquantes dans nos données\n",
    "spaceship_titanic_train.isnull().sum().sort_values(ascending=False)"
   ]
  },
  {
   "cell_type": "code",
   "execution_count": 38,
   "metadata": {},
   "outputs": [],
   "source": [
    "# df = spaceship_titanic_train.copy()\n",
    "# numeric_columns = df.select_dtypes(include=['number']).columns\n",
    "# nrows = len(numeric_columns)\n",
    "# ncols = 1\n",
    "\n",
    "# _, axes = plt.subplots(nrows, ncols, figsize=(8, 6*nrows))\n",
    "\n",
    "# for i, col in enumerate(numeric_columns):\n",
    "#     ax = axes[i]\n",
    "#     col_random = col + '_random'\n",
    "#     df[col_random]=df[col]\n",
    "#     random_sample = df[col].dropna().sample(df[col].isnull().sum(), random_state=0)\n",
    "#     random_sample.index = df[df[col].isnull()].index\n",
    "#     df.loc[df[col].isnull(), col_random] = random_sample\n",
    "\n",
    "#     df[col].plot(kind='kde', ax=ax, label=f\"{col} original\", color='blue')\n",
    "#     df[col_random].plot(kind='kde', ax=ax, label=f\"{col} random\", color='red')\n",
    "\n",
    "#     ax.set_title(f\"Distribution de {col}\")\n",
    "#     ax.legend()\n",
    "#     ax.set_xlim(df[col].min(), df[col].max())\n",
    "#     ax.set_ylim(0, None)\n",
    "\n",
    "# plt.show()"
   ]
  },
  {
   "cell_type": "code",
   "execution_count": 39,
   "metadata": {},
   "outputs": [],
   "source": [
    "# df = spaceship_titanic_train.copy()\n",
    "# numeric_columns = df.select_dtypes(include=['number']).columns\n",
    "# print(numeric_columns)\n",
    "# nrows = len(numeric_columns)\n",
    "# ncols = 1\n",
    "# _, axes = plt.subplots(nrows, ncols, figsize=(8, 6*nrows))\n",
    "\n",
    "# for i, col in enumerate(numeric_columns):\n",
    "#     ax = axes[i]\n",
    "#     col_median = col + '_median'\n",
    "#     df[col_median] = df[col].fillna(df[col].median())\n",
    "\n",
    "#     df[col].plot(kind='kde', ax=ax, label=f\"{col} original\", color='blue')\n",
    "#     df[col_median].plot(kind='kde', ax=ax, label=f\"{col} median\", color='red')\n",
    "\n",
    "#     ax.set_title(f\"Distribution de {col}\")\n",
    "#     ax.legend()\n",
    "#     ax.set_xlim(df[col].min(), df[col].max())\n",
    "#     ax.set_ylim(0, None)\n",
    "\n",
    "# plt.show()"
   ]
  },
  {
   "cell_type": "code",
   "execution_count": 40,
   "metadata": {},
   "outputs": [
    {
     "data": {
      "text/plain": [
       "CryoSleep       217\n",
       "ShoppingMall    208\n",
       "VIP             203\n",
       "HomePlanet      201\n",
       "Cabin           199\n",
       "VRDeck          188\n",
       "FoodCourt       183\n",
       "Spa             183\n",
       "Destination     182\n",
       "RoomService     181\n",
       "Age             179\n",
       "Transported       0\n",
       "dtype: int64"
      ]
     },
     "execution_count": 40,
     "metadata": {},
     "output_type": "execute_result"
    }
   ],
   "source": [
    "df = spaceship_titanic_train.copy()\n",
    "df.isnull().sum().sort_values(ascending=False)"
   ]
  },
  {
   "cell_type": "code",
   "execution_count": 41,
   "metadata": {},
   "outputs": [
    {
     "data": {
      "text/plain": [
       "HomePlanet      0\n",
       "CryoSleep       0\n",
       "Cabin           0\n",
       "Destination     0\n",
       "Age             0\n",
       "VIP             0\n",
       "RoomService     0\n",
       "FoodCourt       0\n",
       "ShoppingMall    0\n",
       "Spa             0\n",
       "VRDeck          0\n",
       "Transported     0\n",
       "dtype: int64"
      ]
     },
     "execution_count": 41,
     "metadata": {},
     "output_type": "execute_result"
    }
   ],
   "source": [
    "target_col = 'Transported'\n",
    "for col in df.columns:\n",
    "    if col != target_col:\n",
    "        random_sample = df[col].dropna().sample(df[col].isnull().sum(), random_state=0)\n",
    "        random_sample.index = df[df[col].isnull()].index\n",
    "        df.loc[df[col].isnull(), col] = random_sample\n",
    "\n",
    "df.isnull().sum().sort_values(ascending=False)"
   ]
  },
  {
   "cell_type": "code",
   "execution_count": 42,
   "metadata": {},
   "outputs": [
    {
     "data": {
      "text/plain": [
       "14"
      ]
     },
     "execution_count": 42,
     "metadata": {},
     "output_type": "execute_result"
    }
   ],
   "source": [
    "df.duplicated().sum()"
   ]
  },
  {
   "cell_type": "code",
   "execution_count": 43,
   "metadata": {},
   "outputs": [],
   "source": [
    "df.drop_duplicates(inplace=True)"
   ]
  },
  {
   "cell_type": "code",
   "execution_count": 44,
   "metadata": {},
   "outputs": [
    {
     "data": {
      "text/plain": [
       "0"
      ]
     },
     "execution_count": 44,
     "metadata": {},
     "output_type": "execute_result"
    }
   ],
   "source": [
    "df.duplicated().sum()"
   ]
  },
  {
   "cell_type": "code",
   "execution_count": 45,
   "metadata": {},
   "outputs": [
    {
     "data": {
      "text/html": [
       "<div>\n",
       "<style scoped>\n",
       "    .dataframe tbody tr th:only-of-type {\n",
       "        vertical-align: middle;\n",
       "    }\n",
       "\n",
       "    .dataframe tbody tr th {\n",
       "        vertical-align: top;\n",
       "    }\n",
       "\n",
       "    .dataframe thead th {\n",
       "        text-align: right;\n",
       "    }\n",
       "</style>\n",
       "<table border=\"1\" class=\"dataframe\">\n",
       "  <thead>\n",
       "    <tr style=\"text-align: right;\">\n",
       "      <th></th>\n",
       "      <th>HomePlanet</th>\n",
       "      <th>CryoSleep</th>\n",
       "      <th>Cabin</th>\n",
       "      <th>Destination</th>\n",
       "      <th>Age</th>\n",
       "      <th>VIP</th>\n",
       "      <th>RoomService</th>\n",
       "      <th>FoodCourt</th>\n",
       "      <th>ShoppingMall</th>\n",
       "      <th>Spa</th>\n",
       "      <th>VRDeck</th>\n",
       "      <th>Transported</th>\n",
       "    </tr>\n",
       "  </thead>\n",
       "  <tbody>\n",
       "    <tr>\n",
       "      <th>0</th>\n",
       "      <td>Europa</td>\n",
       "      <td>0</td>\n",
       "      <td>B/0/P</td>\n",
       "      <td>TRAPPIST-1e</td>\n",
       "      <td>39.0</td>\n",
       "      <td>0</td>\n",
       "      <td>0.0</td>\n",
       "      <td>0.0</td>\n",
       "      <td>0.0</td>\n",
       "      <td>0.0</td>\n",
       "      <td>0.0</td>\n",
       "      <td>0</td>\n",
       "    </tr>\n",
       "    <tr>\n",
       "      <th>1</th>\n",
       "      <td>Earth</td>\n",
       "      <td>0</td>\n",
       "      <td>F/0/S</td>\n",
       "      <td>TRAPPIST-1e</td>\n",
       "      <td>24.0</td>\n",
       "      <td>0</td>\n",
       "      <td>109.0</td>\n",
       "      <td>9.0</td>\n",
       "      <td>25.0</td>\n",
       "      <td>549.0</td>\n",
       "      <td>44.0</td>\n",
       "      <td>1</td>\n",
       "    </tr>\n",
       "  </tbody>\n",
       "</table>\n",
       "</div>"
      ],
      "text/plain": [
       "  HomePlanet  CryoSleep  Cabin  Destination   Age  VIP  RoomService  \\\n",
       "0     Europa          0  B/0/P  TRAPPIST-1e  39.0    0          0.0   \n",
       "1      Earth          0  F/0/S  TRAPPIST-1e  24.0    0        109.0   \n",
       "\n",
       "   FoodCourt  ShoppingMall    Spa  VRDeck  Transported  \n",
       "0        0.0           0.0    0.0     0.0            0  \n",
       "1        9.0          25.0  549.0    44.0            1  "
      ]
     },
     "execution_count": 45,
     "metadata": {},
     "output_type": "execute_result"
    }
   ],
   "source": [
    "###On convertit les colonnes boolean en entier\n",
    "bool_cols = [target_col, 'CryoSleep', 'VIP']\n",
    "for col in bool_cols:\n",
    "    df[col] = df[col].astype(int)\n",
    "\n",
    "df.head(2)"
   ]
  },
  {
   "cell_type": "code",
   "execution_count": 46,
   "metadata": {},
   "outputs": [
    {
     "data": {
      "text/plain": [
       "['HomePlanet', 'Cabin', 'Destination']"
      ]
     },
     "execution_count": 46,
     "metadata": {},
     "output_type": "execute_result"
    }
   ],
   "source": [
    "###On récupère les variables catégorielles de nos données\n",
    "categorical_features = []\n",
    "for col in df.select_dtypes(object).columns:\n",
    "    categorical_features.append(col)\n",
    "\n",
    "categorical_features"
   ]
  },
  {
   "cell_type": "code",
   "execution_count": 47,
   "metadata": {},
   "outputs": [
    {
     "data": {
      "text/plain": [
       "array([[0.000e+00, 1.000e+00, 0.000e+00, ..., 0.000e+00, 0.000e+00,\n",
       "        0.000e+00],\n",
       "       [1.000e+00, 0.000e+00, 0.000e+00, ..., 5.490e+02, 4.400e+01,\n",
       "        1.000e+00],\n",
       "       [0.000e+00, 1.000e+00, 0.000e+00, ..., 6.715e+03, 4.900e+01,\n",
       "        0.000e+00],\n",
       "       ...,\n",
       "       [1.000e+00, 0.000e+00, 0.000e+00, ..., 1.000e+00, 0.000e+00,\n",
       "        1.000e+00],\n",
       "       [0.000e+00, 1.000e+00, 0.000e+00, ..., 3.530e+02, 3.235e+03,\n",
       "        0.000e+00],\n",
       "       [0.000e+00, 1.000e+00, 0.000e+00, ..., 0.000e+00, 1.200e+01,\n",
       "        1.000e+00]])"
      ]
     },
     "execution_count": 47,
     "metadata": {},
     "output_type": "execute_result"
    }
   ],
   "source": [
    "###Encoder les variables catégorielles via Pandas\n",
    "# df = pd.get_dummies(df, drop_first=True)\n",
    "# df.head(2)\n",
    "\n",
    "\n",
    "###Encoder les variables catégorielles via Scikit-Learn\n",
    "from sklearn.preprocessing import OneHotEncoder\n",
    "from sklearn.compose import ColumnTransformer\n",
    "from sklearn.pipeline import make_pipeline\n",
    "\n",
    "one_hot = OneHotEncoder(handle_unknown='ignore', sparse_output=False)\n",
    "transformed_data = ColumnTransformer(\n",
    "    [('one_hot', one_hot, categorical_features)],\n",
    "    remainder='passthrough'\n",
    ")\n",
    "\n",
    "transformed_data.fit_transform(df)"
   ]
  },
  {
   "cell_type": "code",
   "execution_count": 48,
   "metadata": {},
   "outputs": [
    {
     "data": {
      "text/plain": [
       "((6943, 11), (1736, 11), (6943,), (1736,))"
      ]
     },
     "execution_count": 48,
     "metadata": {},
     "output_type": "execute_result"
    }
   ],
   "source": [
    "###Création des données de test et d'entraînement\n",
    "from sklearn.model_selection import train_test_split\n",
    "X = df.drop(columns=[target_col])\n",
    "y = df[target_col]\n",
    "X_train, X_test, y_train, y_test = train_test_split(X, y, test_size=0.20, random_state=0)\n",
    "\n",
    "### Voir la taille des données subdivisées\n",
    "X_train.shape, X_test.shape, y_train.shape, y_test.shape"
   ]
  },
  {
   "cell_type": "markdown",
   "metadata": {},
   "source": [
    "# 5. Contruction et entraînement de plusieurs modèles"
   ]
  },
  {
   "cell_type": "code",
   "execution_count": 49,
   "metadata": {},
   "outputs": [],
   "source": [
    "from sklearn.neighbors import KNeighborsClassifier\n",
    "from sklearn.ensemble import RandomForestClassifier\n",
    "from sklearn.linear_model import LogisticRegression\n",
    "from sklearn.tree import DecisionTreeClassifier\n",
    "from sklearn.svm import SVC\n",
    "\n",
    "from sklearn.model_selection import GridSearchCV, RandomizedSearchCV"
   ]
  },
  {
   "cell_type": "code",
   "execution_count": 50,
   "metadata": {},
   "outputs": [],
   "source": [
    "# from sklearn.metrics import accuracy_score\n",
    "# knn = KNeighborsClassifier(\n",
    "#     n_neighbors=100,\n",
    "#     # weights='distance',\n",
    "#     # n_jobs=100\n",
    "# )\n",
    "# knn.fit(X_train, y_train)\n",
    "# y_pred_knn = knn.predict(X_test)\n",
    "# from sklearn.metrics import accuracy_score\n",
    "# accuracy_knn = accuracy_score(y_test, y_pred_knn)\n",
    "# accuracy_knn"
   ]
  },
  {
   "cell_type": "code",
   "execution_count": 51,
   "metadata": {},
   "outputs": [],
   "source": [
    "# rf = RandomForestClassifier(\n",
    "#     n_estimators=100,\n",
    "#     n_jobs=3,\n",
    "#     random_state=0\n",
    "# )\n",
    "# rf.fit(X_train, y_train)\n",
    "# y_pred_rf = rf.predict(X_test)\n",
    "# accuracy_rf = accuracy_score(y_test, y_pred_rf)\n",
    "# accuracy_rf"
   ]
  },
  {
   "cell_type": "code",
   "execution_count": 52,
   "metadata": {},
   "outputs": [],
   "source": [
    "###Definir plusieurs modèles avec ces hyperparamètres\n",
    "models = [\n",
    "    # (\n",
    "    #     'KNeighborsClassifier',\n",
    "    #     KNeighborsClassifier(),\n",
    "    #     {\n",
    "    #         'kneighborsclassifier__n_neighbors': [5, 10, 50, 100],\n",
    "    #         'kneighborsclassifier__weights': ['uniform', \"distance\"],\n",
    "    #         'kneighborsclassifier__n_jobs': [1, 2]\n",
    "    #     }\n",
    "    # ),\n",
    "    # (\n",
    "    #     'RandomForestClassifier',\n",
    "    #     RandomForestClassifier(),\n",
    "    #     {\n",
    "    #         'randomforestclassifier__criterion': ['gini', 'entropy'],\n",
    "    #         'randomforestclassifier__n_estimators': [100, 200, 300],\n",
    "    #         'randomforestclassifier__max_features': ['sqrt', 'log2'],\n",
    "    #         'randomforestclassifier__max_depth': [None]\n",
    "    #     }\n",
    "    # ),\n",
    "    (\n",
    "        'LogisticRegression',\n",
    "        LogisticRegression(),\n",
    "        {\n",
    "            'logisticregression__penalty': [None, 'l1', 'l2', 'elasticnet'],\n",
    "            'logisticregression__solver': ['lbfgs', 'newton-cg', 'newton-cholesky', 'sag', 'saga'],\n",
    "            'logisticregression__max_iter': [1000, 2000, 3000]\n",
    "        }\n",
    "    ),\n",
    "    (\n",
    "        'DecisionTreeClassifier',\n",
    "        DecisionTreeClassifier(),\n",
    "        {\n",
    "            'decisiontreeclassifier__criterion': ['gini', 'entropy'],\n",
    "            'decisiontreeclassifier__splitter': ['best', 'random'],\n",
    "            'decisiontreeclassifier__max_features': [None, 'sqrt', 'log2'],\n",
    "            'decisiontreeclassifier__max_depth': [None, 10, 20, 30, 40, 50]\n",
    "        }\n",
    "    ),\n",
    "    (\n",
    "        'SVC',\n",
    "        SVC(),\n",
    "        {\n",
    "            'svc__kernel': ['rbf', 'sigmoid'],\n",
    "            'svc__decision_function_shape': ['ovr'],\n",
    "            'svc__break_ties': [False, True]\n",
    "        }\n",
    "    ),\n",
    "]"
   ]
  },
  {
   "cell_type": "code",
   "execution_count": 53,
   "metadata": {},
   "outputs": [],
   "source": [
    "# models_score_results = []\n",
    "# for name, model, parameters in models:\n",
    "#     _pipeline = make_pipeline(transformed_data, model)\n",
    "#     print(name)\n",
    "#     print(_pipeline.get_params().keys())\n",
    "#     gridSearchCV = GridSearchCV(_pipeline, parameters, verbose=3)\n",
    "#     gridSearchCV.fit(X_train, y_train)\n",
    "#     models_score_results.append((name, gridSearchCV.best_params_, gridSearchCV.best_score_))\n",
    "#     print('\\n')\n",
    "\n",
    "# models_score_results"
   ]
  },
  {
   "cell_type": "code",
   "execution_count": 54,
   "metadata": {},
   "outputs": [
    {
     "name": "stdout",
     "output_type": "stream",
     "text": [
      "LogisticRegression\n",
      "dict_keys(['memory', 'steps', 'verbose', 'columntransformer', 'logisticregression', 'columntransformer__n_jobs', 'columntransformer__remainder', 'columntransformer__sparse_threshold', 'columntransformer__transformer_weights', 'columntransformer__transformers', 'columntransformer__verbose', 'columntransformer__verbose_feature_names_out', 'columntransformer__one_hot', 'columntransformer__one_hot__categories', 'columntransformer__one_hot__drop', 'columntransformer__one_hot__dtype', 'columntransformer__one_hot__feature_name_combiner', 'columntransformer__one_hot__handle_unknown', 'columntransformer__one_hot__max_categories', 'columntransformer__one_hot__min_frequency', 'columntransformer__one_hot__sparse_output', 'logisticregression__C', 'logisticregression__class_weight', 'logisticregression__dual', 'logisticregression__fit_intercept', 'logisticregression__intercept_scaling', 'logisticregression__l1_ratio', 'logisticregression__max_iter', 'logisticregression__multi_class', 'logisticregression__n_jobs', 'logisticregression__penalty', 'logisticregression__random_state', 'logisticregression__solver', 'logisticregression__tol', 'logisticregression__verbose', 'logisticregression__warm_start'])\n",
      "Fitting 5 folds for each of 10 candidates, totalling 50 fits\n",
      "[CV 1/5] END logisticregression__max_iter=1000, logisticregression__penalty=l2, logisticregression__solver=newton-cg;, score=0.773 total time=  32.0s\n",
      "[CV 2/5] END logisticregression__max_iter=1000, logisticregression__penalty=l2, logisticregression__solver=newton-cg;, score=0.785 total time=  18.1s\n",
      "[CV 3/5] END logisticregression__max_iter=1000, logisticregression__penalty=l2, logisticregression__solver=newton-cg;, score=0.768 total time=  19.6s\n",
      "[CV 4/5] END logisticregression__max_iter=1000, logisticregression__penalty=l2, logisticregression__solver=newton-cg;, score=0.803 total time=  21.8s\n",
      "[CV 5/5] END logisticregression__max_iter=1000, logisticregression__penalty=l2, logisticregression__solver=newton-cg;, score=0.777 total time=  20.8s\n",
      "[CV 1/5] END logisticregression__max_iter=2000, logisticregression__penalty=l1, logisticregression__solver=saga;, score=0.770 total time=31.9min\n",
      "[CV 2/5] END logisticregression__max_iter=2000, logisticregression__penalty=l1, logisticregression__solver=saga;, score=0.770 total time=25.4min\n",
      "[CV 3/5] END logisticregression__max_iter=2000, logisticregression__penalty=l1, logisticregression__solver=saga;, score=0.775 total time=24.8min\n",
      "[CV 4/5] END logisticregression__max_iter=2000, logisticregression__penalty=l1, logisticregression__solver=saga;, score=0.778 total time=24.1min\n",
      "[CV 5/5] END logisticregression__max_iter=2000, logisticregression__penalty=l1, logisticregression__solver=saga;, score=0.782 total time=26.1min\n",
      "[CV 1/5] END logisticregression__max_iter=2000, logisticregression__penalty=l2, logisticregression__solver=newton-cholesky;, score=0.773 total time= 2.1min\n",
      "[CV 2/5] END logisticregression__max_iter=2000, logisticregression__penalty=l2, logisticregression__solver=newton-cholesky;, score=0.785 total time= 2.0min\n",
      "[CV 3/5] END logisticregression__max_iter=2000, logisticregression__penalty=l2, logisticregression__solver=newton-cholesky;, score=0.768 total time= 1.5min\n",
      "[CV 4/5] END logisticregression__max_iter=2000, logisticregression__penalty=l2, logisticregression__solver=newton-cholesky;, score=0.803 total time= 1.4min\n",
      "[CV 5/5] END logisticregression__max_iter=2000, logisticregression__penalty=l2, logisticregression__solver=newton-cholesky;, score=0.777 total time= 2.0min\n"
     ]
    },
    {
     "name": "stderr",
     "output_type": "stream",
     "text": [
      "c:\\Users\\tiemoko.sogodogo\\AppData\\Local\\Programs\\Python\\Python311\\Lib\\site-packages\\sklearn\\linear_model\\_logistic.py:469: ConvergenceWarning: lbfgs failed to converge (status=1):\n",
      "STOP: TOTAL NO. of ITERATIONS REACHED LIMIT.\n",
      "\n",
      "Increase the number of iterations (max_iter) or scale the data as shown in:\n",
      "    https://scikit-learn.org/stable/modules/preprocessing.html\n",
      "Please also refer to the documentation for alternative solver options:\n",
      "    https://scikit-learn.org/stable/modules/linear_model.html#logistic-regression\n",
      "  n_iter_i = _check_optimize_result(\n"
     ]
    },
    {
     "name": "stdout",
     "output_type": "stream",
     "text": [
      "[CV 1/5] END logisticregression__max_iter=3000, logisticregression__penalty=l2, logisticregression__solver=lbfgs;, score=0.772 total time= 2.7min\n"
     ]
    },
    {
     "name": "stderr",
     "output_type": "stream",
     "text": [
      "c:\\Users\\tiemoko.sogodogo\\AppData\\Local\\Programs\\Python\\Python311\\Lib\\site-packages\\sklearn\\linear_model\\_logistic.py:469: ConvergenceWarning: lbfgs failed to converge (status=1):\n",
      "STOP: TOTAL NO. of ITERATIONS REACHED LIMIT.\n",
      "\n",
      "Increase the number of iterations (max_iter) or scale the data as shown in:\n",
      "    https://scikit-learn.org/stable/modules/preprocessing.html\n",
      "Please also refer to the documentation for alternative solver options:\n",
      "    https://scikit-learn.org/stable/modules/linear_model.html#logistic-regression\n",
      "  n_iter_i = _check_optimize_result(\n"
     ]
    },
    {
     "name": "stdout",
     "output_type": "stream",
     "text": [
      "[CV 2/5] END logisticregression__max_iter=3000, logisticregression__penalty=l2, logisticregression__solver=lbfgs;, score=0.780 total time= 3.3min\n"
     ]
    },
    {
     "name": "stderr",
     "output_type": "stream",
     "text": [
      "c:\\Users\\tiemoko.sogodogo\\AppData\\Local\\Programs\\Python\\Python311\\Lib\\site-packages\\sklearn\\linear_model\\_logistic.py:469: ConvergenceWarning: lbfgs failed to converge (status=1):\n",
      "STOP: TOTAL NO. of ITERATIONS REACHED LIMIT.\n",
      "\n",
      "Increase the number of iterations (max_iter) or scale the data as shown in:\n",
      "    https://scikit-learn.org/stable/modules/preprocessing.html\n",
      "Please also refer to the documentation for alternative solver options:\n",
      "    https://scikit-learn.org/stable/modules/linear_model.html#logistic-regression\n",
      "  n_iter_i = _check_optimize_result(\n"
     ]
    },
    {
     "name": "stdout",
     "output_type": "stream",
     "text": [
      "[CV 3/5] END logisticregression__max_iter=3000, logisticregression__penalty=l2, logisticregression__solver=lbfgs;, score=0.770 total time= 3.1min\n"
     ]
    },
    {
     "name": "stderr",
     "output_type": "stream",
     "text": [
      "c:\\Users\\tiemoko.sogodogo\\AppData\\Local\\Programs\\Python\\Python311\\Lib\\site-packages\\sklearn\\linear_model\\_logistic.py:469: ConvergenceWarning: lbfgs failed to converge (status=1):\n",
      "STOP: TOTAL NO. of ITERATIONS REACHED LIMIT.\n",
      "\n",
      "Increase the number of iterations (max_iter) or scale the data as shown in:\n",
      "    https://scikit-learn.org/stable/modules/preprocessing.html\n",
      "Please also refer to the documentation for alternative solver options:\n",
      "    https://scikit-learn.org/stable/modules/linear_model.html#logistic-regression\n",
      "  n_iter_i = _check_optimize_result(\n"
     ]
    },
    {
     "name": "stdout",
     "output_type": "stream",
     "text": [
      "[CV 4/5] END logisticregression__max_iter=3000, logisticregression__penalty=l2, logisticregression__solver=lbfgs;, score=0.802 total time= 2.9min\n"
     ]
    },
    {
     "name": "stderr",
     "output_type": "stream",
     "text": [
      "c:\\Users\\tiemoko.sogodogo\\AppData\\Local\\Programs\\Python\\Python311\\Lib\\site-packages\\sklearn\\linear_model\\_logistic.py:469: ConvergenceWarning: lbfgs failed to converge (status=1):\n",
      "STOP: TOTAL NO. of ITERATIONS REACHED LIMIT.\n",
      "\n",
      "Increase the number of iterations (max_iter) or scale the data as shown in:\n",
      "    https://scikit-learn.org/stable/modules/preprocessing.html\n",
      "Please also refer to the documentation for alternative solver options:\n",
      "    https://scikit-learn.org/stable/modules/linear_model.html#logistic-regression\n",
      "  n_iter_i = _check_optimize_result(\n"
     ]
    },
    {
     "name": "stdout",
     "output_type": "stream",
     "text": [
      "[CV 5/5] END logisticregression__max_iter=3000, logisticregression__penalty=l2, logisticregression__solver=lbfgs;, score=0.778 total time= 2.8min\n",
      "[CV 1/5] END logisticregression__max_iter=2000, logisticregression__penalty=elasticnet, logisticregression__solver=saga;, score=nan total time=   0.3s\n",
      "[CV 2/5] END logisticregression__max_iter=2000, logisticregression__penalty=elasticnet, logisticregression__solver=saga;, score=nan total time=   0.3s\n",
      "[CV 3/5] END logisticregression__max_iter=2000, logisticregression__penalty=elasticnet, logisticregression__solver=saga;, score=nan total time=   0.3s\n",
      "[CV 4/5] END logisticregression__max_iter=2000, logisticregression__penalty=elasticnet, logisticregression__solver=saga;, score=nan total time=   0.3s\n",
      "[CV 5/5] END logisticregression__max_iter=2000, logisticregression__penalty=elasticnet, logisticregression__solver=saga;, score=nan total time=   0.3s\n",
      "[CV 1/5] END logisticregression__max_iter=2000, logisticregression__penalty=elasticnet, logisticregression__solver=sag;, score=nan total time=   0.3s\n",
      "[CV 2/5] END logisticregression__max_iter=2000, logisticregression__penalty=elasticnet, logisticregression__solver=sag;, score=nan total time=   0.3s\n",
      "[CV 3/5] END logisticregression__max_iter=2000, logisticregression__penalty=elasticnet, logisticregression__solver=sag;, score=nan total time=   0.3s\n",
      "[CV 4/5] END logisticregression__max_iter=2000, logisticregression__penalty=elasticnet, logisticregression__solver=sag;, score=nan total time=   0.4s\n",
      "[CV 5/5] END logisticregression__max_iter=2000, logisticregression__penalty=elasticnet, logisticregression__solver=sag;, score=nan total time=   0.3s\n",
      "[CV 1/5] END logisticregression__max_iter=2000, logisticregression__penalty=l2, logisticregression__solver=saga;, score=0.770 total time=18.6min\n",
      "[CV 2/5] END logisticregression__max_iter=2000, logisticregression__penalty=l2, logisticregression__solver=saga;, score=0.770 total time=23.3min\n",
      "[CV 3/5] END logisticregression__max_iter=2000, logisticregression__penalty=l2, logisticregression__solver=saga;, score=0.775 total time=21.7min\n",
      "[CV 4/5] END logisticregression__max_iter=2000, logisticregression__penalty=l2, logisticregression__solver=saga;, score=0.778 total time=18.5min\n",
      "[CV 5/5] END logisticregression__max_iter=2000, logisticregression__penalty=l2, logisticregression__solver=saga;, score=0.782 total time=24.6min\n",
      "[CV 1/5] END logisticregression__max_iter=1000, logisticregression__penalty=elasticnet, logisticregression__solver=newton-cg;, score=nan total time=   1.5s\n",
      "[CV 2/5] END logisticregression__max_iter=1000, logisticregression__penalty=elasticnet, logisticregression__solver=newton-cg;, score=nan total time=   0.7s\n",
      "[CV 3/5] END logisticregression__max_iter=1000, logisticregression__penalty=elasticnet, logisticregression__solver=newton-cg;, score=nan total time=   0.9s\n",
      "[CV 4/5] END logisticregression__max_iter=1000, logisticregression__penalty=elasticnet, logisticregression__solver=newton-cg;, score=nan total time=   1.8s\n",
      "[CV 5/5] END logisticregression__max_iter=1000, logisticregression__penalty=elasticnet, logisticregression__solver=newton-cg;, score=nan total time=   0.8s\n"
     ]
    },
    {
     "name": "stderr",
     "output_type": "stream",
     "text": [
      "c:\\Users\\tiemoko.sogodogo\\AppData\\Local\\Programs\\Python\\Python311\\Lib\\site-packages\\sklearn\\linear_model\\_logistic.py:469: ConvergenceWarning: lbfgs failed to converge (status=1):\n",
      "STOP: TOTAL NO. of ITERATIONS REACHED LIMIT.\n",
      "\n",
      "Increase the number of iterations (max_iter) or scale the data as shown in:\n",
      "    https://scikit-learn.org/stable/modules/preprocessing.html\n",
      "Please also refer to the documentation for alternative solver options:\n",
      "    https://scikit-learn.org/stable/modules/linear_model.html#logistic-regression\n",
      "  n_iter_i = _check_optimize_result(\n"
     ]
    },
    {
     "name": "stdout",
     "output_type": "stream",
     "text": [
      "[CV 1/5] END logisticregression__max_iter=2000, logisticregression__penalty=l2, logisticregression__solver=lbfgs;, score=0.773 total time= 2.6min\n"
     ]
    },
    {
     "name": "stderr",
     "output_type": "stream",
     "text": [
      "c:\\Users\\tiemoko.sogodogo\\AppData\\Local\\Programs\\Python\\Python311\\Lib\\site-packages\\sklearn\\linear_model\\_logistic.py:469: ConvergenceWarning: lbfgs failed to converge (status=1):\n",
      "STOP: TOTAL NO. of ITERATIONS REACHED LIMIT.\n",
      "\n",
      "Increase the number of iterations (max_iter) or scale the data as shown in:\n",
      "    https://scikit-learn.org/stable/modules/preprocessing.html\n",
      "Please also refer to the documentation for alternative solver options:\n",
      "    https://scikit-learn.org/stable/modules/linear_model.html#logistic-regression\n",
      "  n_iter_i = _check_optimize_result(\n"
     ]
    },
    {
     "name": "stdout",
     "output_type": "stream",
     "text": [
      "[CV 2/5] END logisticregression__max_iter=2000, logisticregression__penalty=l2, logisticregression__solver=lbfgs;, score=0.780 total time= 2.0min\n"
     ]
    },
    {
     "name": "stderr",
     "output_type": "stream",
     "text": [
      "c:\\Users\\tiemoko.sogodogo\\AppData\\Local\\Programs\\Python\\Python311\\Lib\\site-packages\\sklearn\\linear_model\\_logistic.py:469: ConvergenceWarning: lbfgs failed to converge (status=1):\n",
      "STOP: TOTAL NO. of ITERATIONS REACHED LIMIT.\n",
      "\n",
      "Increase the number of iterations (max_iter) or scale the data as shown in:\n",
      "    https://scikit-learn.org/stable/modules/preprocessing.html\n",
      "Please also refer to the documentation for alternative solver options:\n",
      "    https://scikit-learn.org/stable/modules/linear_model.html#logistic-regression\n",
      "  n_iter_i = _check_optimize_result(\n"
     ]
    },
    {
     "name": "stdout",
     "output_type": "stream",
     "text": [
      "[CV 3/5] END logisticregression__max_iter=2000, logisticregression__penalty=l2, logisticregression__solver=lbfgs;, score=0.775 total time= 2.1min\n"
     ]
    },
    {
     "name": "stderr",
     "output_type": "stream",
     "text": [
      "c:\\Users\\tiemoko.sogodogo\\AppData\\Local\\Programs\\Python\\Python311\\Lib\\site-packages\\sklearn\\linear_model\\_logistic.py:469: ConvergenceWarning: lbfgs failed to converge (status=1):\n",
      "STOP: TOTAL NO. of ITERATIONS REACHED LIMIT.\n",
      "\n",
      "Increase the number of iterations (max_iter) or scale the data as shown in:\n",
      "    https://scikit-learn.org/stable/modules/preprocessing.html\n",
      "Please also refer to the documentation for alternative solver options:\n",
      "    https://scikit-learn.org/stable/modules/linear_model.html#logistic-regression\n",
      "  n_iter_i = _check_optimize_result(\n"
     ]
    },
    {
     "name": "stdout",
     "output_type": "stream",
     "text": [
      "[CV 4/5] END logisticregression__max_iter=2000, logisticregression__penalty=l2, logisticregression__solver=lbfgs;, score=0.802 total time= 1.8min\n"
     ]
    },
    {
     "name": "stderr",
     "output_type": "stream",
     "text": [
      "c:\\Users\\tiemoko.sogodogo\\AppData\\Local\\Programs\\Python\\Python311\\Lib\\site-packages\\sklearn\\linear_model\\_logistic.py:469: ConvergenceWarning: lbfgs failed to converge (status=1):\n",
      "STOP: TOTAL NO. of ITERATIONS REACHED LIMIT.\n",
      "\n",
      "Increase the number of iterations (max_iter) or scale the data as shown in:\n",
      "    https://scikit-learn.org/stable/modules/preprocessing.html\n",
      "Please also refer to the documentation for alternative solver options:\n",
      "    https://scikit-learn.org/stable/modules/linear_model.html#logistic-regression\n",
      "  n_iter_i = _check_optimize_result(\n"
     ]
    },
    {
     "name": "stdout",
     "output_type": "stream",
     "text": [
      "[CV 5/5] END logisticregression__max_iter=2000, logisticregression__penalty=l2, logisticregression__solver=lbfgs;, score=0.781 total time= 1.9min\n",
      "[CV 1/5] END logisticregression__max_iter=2000, logisticregression__penalty=elasticnet, logisticregression__solver=lbfgs;, score=nan total time=   0.4s\n",
      "[CV 2/5] END logisticregression__max_iter=2000, logisticregression__penalty=elasticnet, logisticregression__solver=lbfgs;, score=nan total time=   0.4s\n",
      "[CV 3/5] END logisticregression__max_iter=2000, logisticregression__penalty=elasticnet, logisticregression__solver=lbfgs;, score=nan total time=   0.4s\n",
      "[CV 4/5] END logisticregression__max_iter=2000, logisticregression__penalty=elasticnet, logisticregression__solver=lbfgs;, score=nan total time=   0.4s\n",
      "[CV 5/5] END logisticregression__max_iter=2000, logisticregression__penalty=elasticnet, logisticregression__solver=lbfgs;, score=nan total time=   0.4s\n"
     ]
    },
    {
     "name": "stderr",
     "output_type": "stream",
     "text": [
      "c:\\Users\\tiemoko.sogodogo\\AppData\\Local\\Programs\\Python\\Python311\\Lib\\site-packages\\sklearn\\model_selection\\_validation.py:547: FitFailedWarning: \n",
      "20 fits failed out of a total of 50.\n",
      "The score on these train-test partitions for these parameters will be set to nan.\n",
      "If these failures are not expected, you can try to debug them by setting error_score='raise'.\n",
      "\n",
      "Below are more details about the failures:\n",
      "--------------------------------------------------------------------------------\n",
      "5 fits failed with the following error:\n",
      "Traceback (most recent call last):\n",
      "  File \"c:\\Users\\tiemoko.sogodogo\\AppData\\Local\\Programs\\Python\\Python311\\Lib\\site-packages\\sklearn\\model_selection\\_validation.py\", line 895, in _fit_and_score\n",
      "    estimator.fit(X_train, y_train, **fit_params)\n",
      "  File \"c:\\Users\\tiemoko.sogodogo\\AppData\\Local\\Programs\\Python\\Python311\\Lib\\site-packages\\sklearn\\base.py\", line 1474, in wrapper\n",
      "    return fit_method(estimator, *args, **kwargs)\n",
      "           ^^^^^^^^^^^^^^^^^^^^^^^^^^^^^^^^^^^^^^\n",
      "  File \"c:\\Users\\tiemoko.sogodogo\\AppData\\Local\\Programs\\Python\\Python311\\Lib\\site-packages\\sklearn\\pipeline.py\", line 475, in fit\n",
      "    self._final_estimator.fit(Xt, y, **last_step_params[\"fit\"])\n",
      "  File \"c:\\Users\\tiemoko.sogodogo\\AppData\\Local\\Programs\\Python\\Python311\\Lib\\site-packages\\sklearn\\base.py\", line 1474, in wrapper\n",
      "    return fit_method(estimator, *args, **kwargs)\n",
      "           ^^^^^^^^^^^^^^^^^^^^^^^^^^^^^^^^^^^^^^\n",
      "  File \"c:\\Users\\tiemoko.sogodogo\\AppData\\Local\\Programs\\Python\\Python311\\Lib\\site-packages\\sklearn\\linear_model\\_logistic.py\", line 1182, in fit\n",
      "    raise ValueError(\"l1_ratio must be specified when penalty is elasticnet.\")\n",
      "ValueError: l1_ratio must be specified when penalty is elasticnet.\n",
      "\n",
      "--------------------------------------------------------------------------------\n",
      "5 fits failed with the following error:\n",
      "Traceback (most recent call last):\n",
      "  File \"c:\\Users\\tiemoko.sogodogo\\AppData\\Local\\Programs\\Python\\Python311\\Lib\\site-packages\\sklearn\\model_selection\\_validation.py\", line 895, in _fit_and_score\n",
      "    estimator.fit(X_train, y_train, **fit_params)\n",
      "  File \"c:\\Users\\tiemoko.sogodogo\\AppData\\Local\\Programs\\Python\\Python311\\Lib\\site-packages\\sklearn\\base.py\", line 1474, in wrapper\n",
      "    return fit_method(estimator, *args, **kwargs)\n",
      "           ^^^^^^^^^^^^^^^^^^^^^^^^^^^^^^^^^^^^^^\n",
      "  File \"c:\\Users\\tiemoko.sogodogo\\AppData\\Local\\Programs\\Python\\Python311\\Lib\\site-packages\\sklearn\\pipeline.py\", line 475, in fit\n",
      "    self._final_estimator.fit(Xt, y, **last_step_params[\"fit\"])\n",
      "  File \"c:\\Users\\tiemoko.sogodogo\\AppData\\Local\\Programs\\Python\\Python311\\Lib\\site-packages\\sklearn\\base.py\", line 1474, in wrapper\n",
      "    return fit_method(estimator, *args, **kwargs)\n",
      "           ^^^^^^^^^^^^^^^^^^^^^^^^^^^^^^^^^^^^^^\n",
      "  File \"c:\\Users\\tiemoko.sogodogo\\AppData\\Local\\Programs\\Python\\Python311\\Lib\\site-packages\\sklearn\\linear_model\\_logistic.py\", line 1172, in fit\n",
      "    solver = _check_solver(self.solver, self.penalty, self.dual)\n",
      "             ^^^^^^^^^^^^^^^^^^^^^^^^^^^^^^^^^^^^^^^^^^^^^^^^^^^\n",
      "  File \"c:\\Users\\tiemoko.sogodogo\\AppData\\Local\\Programs\\Python\\Python311\\Lib\\site-packages\\sklearn\\linear_model\\_logistic.py\", line 67, in _check_solver\n",
      "    raise ValueError(\n",
      "ValueError: Solver sag supports only 'l2' or None penalties, got elasticnet penalty.\n",
      "\n",
      "--------------------------------------------------------------------------------\n",
      "5 fits failed with the following error:\n",
      "Traceback (most recent call last):\n",
      "  File \"c:\\Users\\tiemoko.sogodogo\\AppData\\Local\\Programs\\Python\\Python311\\Lib\\site-packages\\sklearn\\model_selection\\_validation.py\", line 895, in _fit_and_score\n",
      "    estimator.fit(X_train, y_train, **fit_params)\n",
      "  File \"c:\\Users\\tiemoko.sogodogo\\AppData\\Local\\Programs\\Python\\Python311\\Lib\\site-packages\\sklearn\\base.py\", line 1474, in wrapper\n",
      "    return fit_method(estimator, *args, **kwargs)\n",
      "           ^^^^^^^^^^^^^^^^^^^^^^^^^^^^^^^^^^^^^^\n",
      "  File \"c:\\Users\\tiemoko.sogodogo\\AppData\\Local\\Programs\\Python\\Python311\\Lib\\site-packages\\sklearn\\pipeline.py\", line 475, in fit\n",
      "    self._final_estimator.fit(Xt, y, **last_step_params[\"fit\"])\n",
      "  File \"c:\\Users\\tiemoko.sogodogo\\AppData\\Local\\Programs\\Python\\Python311\\Lib\\site-packages\\sklearn\\base.py\", line 1474, in wrapper\n",
      "    return fit_method(estimator, *args, **kwargs)\n",
      "           ^^^^^^^^^^^^^^^^^^^^^^^^^^^^^^^^^^^^^^\n",
      "  File \"c:\\Users\\tiemoko.sogodogo\\AppData\\Local\\Programs\\Python\\Python311\\Lib\\site-packages\\sklearn\\linear_model\\_logistic.py\", line 1172, in fit\n",
      "    solver = _check_solver(self.solver, self.penalty, self.dual)\n",
      "             ^^^^^^^^^^^^^^^^^^^^^^^^^^^^^^^^^^^^^^^^^^^^^^^^^^^\n",
      "  File \"c:\\Users\\tiemoko.sogodogo\\AppData\\Local\\Programs\\Python\\Python311\\Lib\\site-packages\\sklearn\\linear_model\\_logistic.py\", line 67, in _check_solver\n",
      "    raise ValueError(\n",
      "ValueError: Solver newton-cg supports only 'l2' or None penalties, got elasticnet penalty.\n",
      "\n",
      "--------------------------------------------------------------------------------\n",
      "5 fits failed with the following error:\n",
      "Traceback (most recent call last):\n",
      "  File \"c:\\Users\\tiemoko.sogodogo\\AppData\\Local\\Programs\\Python\\Python311\\Lib\\site-packages\\sklearn\\model_selection\\_validation.py\", line 895, in _fit_and_score\n",
      "    estimator.fit(X_train, y_train, **fit_params)\n",
      "  File \"c:\\Users\\tiemoko.sogodogo\\AppData\\Local\\Programs\\Python\\Python311\\Lib\\site-packages\\sklearn\\base.py\", line 1474, in wrapper\n",
      "    return fit_method(estimator, *args, **kwargs)\n",
      "           ^^^^^^^^^^^^^^^^^^^^^^^^^^^^^^^^^^^^^^\n",
      "  File \"c:\\Users\\tiemoko.sogodogo\\AppData\\Local\\Programs\\Python\\Python311\\Lib\\site-packages\\sklearn\\pipeline.py\", line 475, in fit\n",
      "    self._final_estimator.fit(Xt, y, **last_step_params[\"fit\"])\n",
      "  File \"c:\\Users\\tiemoko.sogodogo\\AppData\\Local\\Programs\\Python\\Python311\\Lib\\site-packages\\sklearn\\base.py\", line 1474, in wrapper\n",
      "    return fit_method(estimator, *args, **kwargs)\n",
      "           ^^^^^^^^^^^^^^^^^^^^^^^^^^^^^^^^^^^^^^\n",
      "  File \"c:\\Users\\tiemoko.sogodogo\\AppData\\Local\\Programs\\Python\\Python311\\Lib\\site-packages\\sklearn\\linear_model\\_logistic.py\", line 1172, in fit\n",
      "    solver = _check_solver(self.solver, self.penalty, self.dual)\n",
      "             ^^^^^^^^^^^^^^^^^^^^^^^^^^^^^^^^^^^^^^^^^^^^^^^^^^^\n",
      "  File \"c:\\Users\\tiemoko.sogodogo\\AppData\\Local\\Programs\\Python\\Python311\\Lib\\site-packages\\sklearn\\linear_model\\_logistic.py\", line 67, in _check_solver\n",
      "    raise ValueError(\n",
      "ValueError: Solver lbfgs supports only 'l2' or None penalties, got elasticnet penalty.\n",
      "\n",
      "  warnings.warn(some_fits_failed_message, FitFailedWarning)\n",
      "c:\\Users\\tiemoko.sogodogo\\AppData\\Local\\Programs\\Python\\Python311\\Lib\\site-packages\\sklearn\\model_selection\\_search.py:1051: UserWarning: One or more of the test scores are non-finite: [0.78136501 0.77473863 0.78136501 0.78050108        nan        nan\n",
      " 0.77473863        nan 0.78208536        nan]\n",
      "  warnings.warn(\n",
      "c:\\Users\\tiemoko.sogodogo\\AppData\\Local\\Programs\\Python\\Python311\\Lib\\site-packages\\sklearn\\linear_model\\_logistic.py:469: ConvergenceWarning: lbfgs failed to converge (status=1):\n",
      "STOP: TOTAL NO. of ITERATIONS REACHED LIMIT.\n",
      "\n",
      "Increase the number of iterations (max_iter) or scale the data as shown in:\n",
      "    https://scikit-learn.org/stable/modules/preprocessing.html\n",
      "Please also refer to the documentation for alternative solver options:\n",
      "    https://scikit-learn.org/stable/modules/linear_model.html#logistic-regression\n",
      "  n_iter_i = _check_optimize_result(\n"
     ]
    },
    {
     "name": "stdout",
     "output_type": "stream",
     "text": [
      "\n",
      "\n",
      "DecisionTreeClassifier\n",
      "dict_keys(['memory', 'steps', 'verbose', 'columntransformer', 'decisiontreeclassifier', 'columntransformer__n_jobs', 'columntransformer__remainder', 'columntransformer__sparse_threshold', 'columntransformer__transformer_weights', 'columntransformer__transformers', 'columntransformer__verbose', 'columntransformer__verbose_feature_names_out', 'columntransformer__one_hot', 'columntransformer__one_hot__categories', 'columntransformer__one_hot__drop', 'columntransformer__one_hot__dtype', 'columntransformer__one_hot__feature_name_combiner', 'columntransformer__one_hot__handle_unknown', 'columntransformer__one_hot__max_categories', 'columntransformer__one_hot__min_frequency', 'columntransformer__one_hot__sparse_output', 'decisiontreeclassifier__ccp_alpha', 'decisiontreeclassifier__class_weight', 'decisiontreeclassifier__criterion', 'decisiontreeclassifier__max_depth', 'decisiontreeclassifier__max_features', 'decisiontreeclassifier__max_leaf_nodes', 'decisiontreeclassifier__min_impurity_decrease', 'decisiontreeclassifier__min_samples_leaf', 'decisiontreeclassifier__min_samples_split', 'decisiontreeclassifier__min_weight_fraction_leaf', 'decisiontreeclassifier__monotonic_cst', 'decisiontreeclassifier__random_state', 'decisiontreeclassifier__splitter'])\n",
      "Fitting 5 folds for each of 10 candidates, totalling 50 fits\n",
      "[CV 1/5] END decisiontreeclassifier__criterion=gini, decisiontreeclassifier__max_depth=None, decisiontreeclassifier__max_features=sqrt, decisiontreeclassifier__splitter=best;, score=0.726 total time=   1.9s\n",
      "[CV 2/5] END decisiontreeclassifier__criterion=gini, decisiontreeclassifier__max_depth=None, decisiontreeclassifier__max_features=sqrt, decisiontreeclassifier__splitter=best;, score=0.731 total time=   1.9s\n",
      "[CV 3/5] END decisiontreeclassifier__criterion=gini, decisiontreeclassifier__max_depth=None, decisiontreeclassifier__max_features=sqrt, decisiontreeclassifier__splitter=best;, score=0.719 total time=   2.0s\n",
      "[CV 4/5] END decisiontreeclassifier__criterion=gini, decisiontreeclassifier__max_depth=None, decisiontreeclassifier__max_features=sqrt, decisiontreeclassifier__splitter=best;, score=0.741 total time=   2.8s\n",
      "[CV 5/5] END decisiontreeclassifier__criterion=gini, decisiontreeclassifier__max_depth=None, decisiontreeclassifier__max_features=sqrt, decisiontreeclassifier__splitter=best;, score=0.723 total time=   1.6s\n",
      "[CV 1/5] END decisiontreeclassifier__criterion=entropy, decisiontreeclassifier__max_depth=40, decisiontreeclassifier__max_features=None, decisiontreeclassifier__splitter=random;, score=0.780 total time=   7.1s\n",
      "[CV 2/5] END decisiontreeclassifier__criterion=entropy, decisiontreeclassifier__max_depth=40, decisiontreeclassifier__max_features=None, decisiontreeclassifier__splitter=random;, score=0.775 total time=   6.3s\n",
      "[CV 3/5] END decisiontreeclassifier__criterion=entropy, decisiontreeclassifier__max_depth=40, decisiontreeclassifier__max_features=None, decisiontreeclassifier__splitter=random;, score=0.776 total time=   6.5s\n",
      "[CV 4/5] END decisiontreeclassifier__criterion=entropy, decisiontreeclassifier__max_depth=40, decisiontreeclassifier__max_features=None, decisiontreeclassifier__splitter=random;, score=0.785 total time=  11.4s\n",
      "[CV 5/5] END decisiontreeclassifier__criterion=entropy, decisiontreeclassifier__max_depth=40, decisiontreeclassifier__max_features=None, decisiontreeclassifier__splitter=random;, score=0.762 total time=  13.6s\n",
      "[CV 1/5] END decisiontreeclassifier__criterion=gini, decisiontreeclassifier__max_depth=20, decisiontreeclassifier__max_features=sqrt, decisiontreeclassifier__splitter=random;, score=0.531 total time=   2.1s\n",
      "[CV 2/5] END decisiontreeclassifier__criterion=gini, decisiontreeclassifier__max_depth=20, decisiontreeclassifier__max_features=sqrt, decisiontreeclassifier__splitter=random;, score=0.503 total time=   1.7s\n",
      "[CV 3/5] END decisiontreeclassifier__criterion=gini, decisiontreeclassifier__max_depth=20, decisiontreeclassifier__max_features=sqrt, decisiontreeclassifier__splitter=random;, score=0.672 total time=   1.4s\n",
      "[CV 4/5] END decisiontreeclassifier__criterion=gini, decisiontreeclassifier__max_depth=20, decisiontreeclassifier__max_features=sqrt, decisiontreeclassifier__splitter=random;, score=0.728 total time=   5.0s\n",
      "[CV 5/5] END decisiontreeclassifier__criterion=gini, decisiontreeclassifier__max_depth=20, decisiontreeclassifier__max_features=sqrt, decisiontreeclassifier__splitter=random;, score=0.661 total time=   3.8s\n",
      "[CV 1/5] END decisiontreeclassifier__criterion=entropy, decisiontreeclassifier__max_depth=None, decisiontreeclassifier__max_features=log2, decisiontreeclassifier__splitter=best;, score=0.698 total time=   5.9s\n",
      "[CV 2/5] END decisiontreeclassifier__criterion=entropy, decisiontreeclassifier__max_depth=None, decisiontreeclassifier__max_features=log2, decisiontreeclassifier__splitter=best;, score=0.697 total time=   3.5s\n",
      "[CV 3/5] END decisiontreeclassifier__criterion=entropy, decisiontreeclassifier__max_depth=None, decisiontreeclassifier__max_features=log2, decisiontreeclassifier__splitter=best;, score=0.688 total time=   1.4s\n",
      "[CV 4/5] END decisiontreeclassifier__criterion=entropy, decisiontreeclassifier__max_depth=None, decisiontreeclassifier__max_features=log2, decisiontreeclassifier__splitter=best;, score=0.730 total time=   1.4s\n",
      "[CV 5/5] END decisiontreeclassifier__criterion=entropy, decisiontreeclassifier__max_depth=None, decisiontreeclassifier__max_features=log2, decisiontreeclassifier__splitter=best;, score=0.669 total time=   1.4s\n",
      "[CV 1/5] END decisiontreeclassifier__criterion=entropy, decisiontreeclassifier__max_depth=30, decisiontreeclassifier__max_features=log2, decisiontreeclassifier__splitter=best;, score=0.502 total time=   0.8s\n",
      "[CV 2/5] END decisiontreeclassifier__criterion=entropy, decisiontreeclassifier__max_depth=30, decisiontreeclassifier__max_features=log2, decisiontreeclassifier__splitter=best;, score=0.595 total time=   0.6s\n",
      "[CV 3/5] END decisiontreeclassifier__criterion=entropy, decisiontreeclassifier__max_depth=30, decisiontreeclassifier__max_features=log2, decisiontreeclassifier__splitter=best;, score=0.505 total time=   0.7s\n",
      "[CV 4/5] END decisiontreeclassifier__criterion=entropy, decisiontreeclassifier__max_depth=30, decisiontreeclassifier__max_features=log2, decisiontreeclassifier__splitter=best;, score=0.504 total time=   0.7s\n",
      "[CV 5/5] END decisiontreeclassifier__criterion=entropy, decisiontreeclassifier__max_depth=30, decisiontreeclassifier__max_features=log2, decisiontreeclassifier__splitter=best;, score=0.671 total time=   0.7s\n",
      "[CV 1/5] END decisiontreeclassifier__criterion=gini, decisiontreeclassifier__max_depth=20, decisiontreeclassifier__max_features=log2, decisiontreeclassifier__splitter=random;, score=0.503 total time=   0.8s\n",
      "[CV 2/5] END decisiontreeclassifier__criterion=gini, decisiontreeclassifier__max_depth=20, decisiontreeclassifier__max_features=log2, decisiontreeclassifier__splitter=random;, score=0.504 total time=   0.8s\n",
      "[CV 3/5] END decisiontreeclassifier__criterion=gini, decisiontreeclassifier__max_depth=20, decisiontreeclassifier__max_features=log2, decisiontreeclassifier__splitter=random;, score=0.534 total time=   0.7s\n",
      "[CV 4/5] END decisiontreeclassifier__criterion=gini, decisiontreeclassifier__max_depth=20, decisiontreeclassifier__max_features=log2, decisiontreeclassifier__splitter=random;, score=0.504 total time=   1.4s\n",
      "[CV 5/5] END decisiontreeclassifier__criterion=gini, decisiontreeclassifier__max_depth=20, decisiontreeclassifier__max_features=log2, decisiontreeclassifier__splitter=random;, score=0.503 total time=   1.1s\n",
      "[CV 1/5] END decisiontreeclassifier__criterion=entropy, decisiontreeclassifier__max_depth=40, decisiontreeclassifier__max_features=sqrt, decisiontreeclassifier__splitter=random;, score=0.723 total time=   1.4s\n",
      "[CV 2/5] END decisiontreeclassifier__criterion=entropy, decisiontreeclassifier__max_depth=40, decisiontreeclassifier__max_features=sqrt, decisiontreeclassifier__splitter=random;, score=0.670 total time=   1.0s\n",
      "[CV 3/5] END decisiontreeclassifier__criterion=entropy, decisiontreeclassifier__max_depth=40, decisiontreeclassifier__max_features=sqrt, decisiontreeclassifier__splitter=random;, score=0.633 total time=   1.3s\n",
      "[CV 4/5] END decisiontreeclassifier__criterion=entropy, decisiontreeclassifier__max_depth=40, decisiontreeclassifier__max_features=sqrt, decisiontreeclassifier__splitter=random;, score=0.740 total time=   1.0s\n",
      "[CV 5/5] END decisiontreeclassifier__criterion=entropy, decisiontreeclassifier__max_depth=40, decisiontreeclassifier__max_features=sqrt, decisiontreeclassifier__splitter=random;, score=0.581 total time=   1.1s\n",
      "[CV 1/5] END decisiontreeclassifier__criterion=entropy, decisiontreeclassifier__max_depth=10, decisiontreeclassifier__max_features=sqrt, decisiontreeclassifier__splitter=best;, score=0.680 total time=   0.7s\n",
      "[CV 2/5] END decisiontreeclassifier__criterion=entropy, decisiontreeclassifier__max_depth=10, decisiontreeclassifier__max_features=sqrt, decisiontreeclassifier__splitter=best;, score=0.703 total time=   0.8s\n",
      "[CV 3/5] END decisiontreeclassifier__criterion=entropy, decisiontreeclassifier__max_depth=10, decisiontreeclassifier__max_features=sqrt, decisiontreeclassifier__splitter=best;, score=0.503 total time=   0.8s\n",
      "[CV 4/5] END decisiontreeclassifier__criterion=entropy, decisiontreeclassifier__max_depth=10, decisiontreeclassifier__max_features=sqrt, decisiontreeclassifier__splitter=best;, score=0.628 total time=   0.7s\n",
      "[CV 5/5] END decisiontreeclassifier__criterion=entropy, decisiontreeclassifier__max_depth=10, decisiontreeclassifier__max_features=sqrt, decisiontreeclassifier__splitter=best;, score=0.702 total time=   0.8s\n",
      "[CV 1/5] END decisiontreeclassifier__criterion=gini, decisiontreeclassifier__max_depth=40, decisiontreeclassifier__max_features=None, decisiontreeclassifier__splitter=best;, score=0.772 total time=   3.3s\n",
      "[CV 2/5] END decisiontreeclassifier__criterion=gini, decisiontreeclassifier__max_depth=40, decisiontreeclassifier__max_features=None, decisiontreeclassifier__splitter=best;, score=0.760 total time=   3.9s\n",
      "[CV 3/5] END decisiontreeclassifier__criterion=gini, decisiontreeclassifier__max_depth=40, decisiontreeclassifier__max_features=None, decisiontreeclassifier__splitter=best;, score=0.765 total time=   4.7s\n",
      "[CV 4/5] END decisiontreeclassifier__criterion=gini, decisiontreeclassifier__max_depth=40, decisiontreeclassifier__max_features=None, decisiontreeclassifier__splitter=best;, score=0.768 total time=   4.2s\n",
      "[CV 5/5] END decisiontreeclassifier__criterion=gini, decisiontreeclassifier__max_depth=40, decisiontreeclassifier__max_features=None, decisiontreeclassifier__splitter=best;, score=0.760 total time=   4.1s\n",
      "[CV 1/5] END decisiontreeclassifier__criterion=entropy, decisiontreeclassifier__max_depth=40, decisiontreeclassifier__max_features=log2, decisiontreeclassifier__splitter=best;, score=0.611 total time=   0.7s\n",
      "[CV 2/5] END decisiontreeclassifier__criterion=entropy, decisiontreeclassifier__max_depth=40, decisiontreeclassifier__max_features=log2, decisiontreeclassifier__splitter=best;, score=0.665 total time=   0.8s\n",
      "[CV 3/5] END decisiontreeclassifier__criterion=entropy, decisiontreeclassifier__max_depth=40, decisiontreeclassifier__max_features=log2, decisiontreeclassifier__splitter=best;, score=0.503 total time=   1.4s\n",
      "[CV 4/5] END decisiontreeclassifier__criterion=entropy, decisiontreeclassifier__max_depth=40, decisiontreeclassifier__max_features=log2, decisiontreeclassifier__splitter=best;, score=0.570 total time=   1.4s\n",
      "[CV 5/5] END decisiontreeclassifier__criterion=entropy, decisiontreeclassifier__max_depth=40, decisiontreeclassifier__max_features=log2, decisiontreeclassifier__splitter=best;, score=0.566 total time=   1.0s\n",
      "\n",
      "\n",
      "SVC\n",
      "dict_keys(['memory', 'steps', 'verbose', 'columntransformer', 'svc', 'columntransformer__n_jobs', 'columntransformer__remainder', 'columntransformer__sparse_threshold', 'columntransformer__transformer_weights', 'columntransformer__transformers', 'columntransformer__verbose', 'columntransformer__verbose_feature_names_out', 'columntransformer__one_hot', 'columntransformer__one_hot__categories', 'columntransformer__one_hot__drop', 'columntransformer__one_hot__dtype', 'columntransformer__one_hot__feature_name_combiner', 'columntransformer__one_hot__handle_unknown', 'columntransformer__one_hot__max_categories', 'columntransformer__one_hot__min_frequency', 'columntransformer__one_hot__sparse_output', 'svc__C', 'svc__break_ties', 'svc__cache_size', 'svc__class_weight', 'svc__coef0', 'svc__decision_function_shape', 'svc__degree', 'svc__gamma', 'svc__kernel', 'svc__max_iter', 'svc__probability', 'svc__random_state', 'svc__shrinking', 'svc__tol', 'svc__verbose'])\n",
      "Fitting 5 folds for each of 4 candidates, totalling 20 fits\n"
     ]
    },
    {
     "name": "stderr",
     "output_type": "stream",
     "text": [
      "c:\\Users\\tiemoko.sogodogo\\AppData\\Local\\Programs\\Python\\Python311\\Lib\\site-packages\\sklearn\\model_selection\\_search.py:318: UserWarning: The total space of parameters 4 is smaller than n_iter=10. Running 4 iterations. For exhaustive searches, use GridSearchCV.\n",
      "  warnings.warn(\n"
     ]
    },
    {
     "name": "stdout",
     "output_type": "stream",
     "text": [
      "[CV 1/5] END svc__break_ties=False, svc__decision_function_shape=ovr, svc__kernel=rbf;, score=0.780 total time= 2.7min\n",
      "[CV 2/5] END svc__break_ties=False, svc__decision_function_shape=ovr, svc__kernel=rbf;, score=0.773 total time= 3.3min\n",
      "[CV 3/5] END svc__break_ties=False, svc__decision_function_shape=ovr, svc__kernel=rbf;, score=0.783 total time= 3.1min\n",
      "[CV 4/5] END svc__break_ties=False, svc__decision_function_shape=ovr, svc__kernel=rbf;, score=0.794 total time= 3.7min\n",
      "[CV 5/5] END svc__break_ties=False, svc__decision_function_shape=ovr, svc__kernel=rbf;, score=0.790 total time= 4.6min\n",
      "[CV 1/5] END svc__break_ties=False, svc__decision_function_shape=ovr, svc__kernel=sigmoid;, score=0.709 total time= 2.6min\n",
      "[CV 2/5] END svc__break_ties=False, svc__decision_function_shape=ovr, svc__kernel=sigmoid;, score=0.690 total time= 2.6min\n",
      "[CV 3/5] END svc__break_ties=False, svc__decision_function_shape=ovr, svc__kernel=sigmoid;, score=0.712 total time= 2.0min\n",
      "[CV 4/5] END svc__break_ties=False, svc__decision_function_shape=ovr, svc__kernel=sigmoid;, score=0.697 total time= 2.4min\n",
      "[CV 5/5] END svc__break_ties=False, svc__decision_function_shape=ovr, svc__kernel=sigmoid;, score=0.732 total time= 1.6min\n",
      "[CV 1/5] END svc__break_ties=True, svc__decision_function_shape=ovr, svc__kernel=rbf;, score=0.780 total time= 3.4min\n",
      "[CV 2/5] END svc__break_ties=True, svc__decision_function_shape=ovr, svc__kernel=rbf;, score=0.773 total time= 2.5min\n",
      "[CV 3/5] END svc__break_ties=True, svc__decision_function_shape=ovr, svc__kernel=rbf;, score=0.783 total time= 2.7min\n",
      "[CV 4/5] END svc__break_ties=True, svc__decision_function_shape=ovr, svc__kernel=rbf;, score=0.794 total time= 2.4min\n",
      "[CV 5/5] END svc__break_ties=True, svc__decision_function_shape=ovr, svc__kernel=rbf;, score=0.790 total time= 2.4min\n",
      "[CV 1/5] END svc__break_ties=True, svc__decision_function_shape=ovr, svc__kernel=sigmoid;, score=0.709 total time= 1.9min\n",
      "[CV 2/5] END svc__break_ties=True, svc__decision_function_shape=ovr, svc__kernel=sigmoid;, score=0.690 total time= 2.0min\n",
      "[CV 3/5] END svc__break_ties=True, svc__decision_function_shape=ovr, svc__kernel=sigmoid;, score=0.712 total time= 1.7min\n",
      "[CV 4/5] END svc__break_ties=True, svc__decision_function_shape=ovr, svc__kernel=sigmoid;, score=0.697 total time= 2.1min\n",
      "[CV 5/5] END svc__break_ties=True, svc__decision_function_shape=ovr, svc__kernel=sigmoid;, score=0.732 total time= 1.5min\n",
      "\n",
      "\n"
     ]
    },
    {
     "data": {
      "text/plain": [
       "[('LogisticRegression',\n",
       "  {'logisticregression__solver': 'lbfgs',\n",
       "   'logisticregression__penalty': 'l2',\n",
       "   'logisticregression__max_iter': 2000},\n",
       "  0.7820853640066143),\n",
       " ('DecisionTreeClassifier',\n",
       "  {'decisiontreeclassifier__splitter': 'random',\n",
       "   'decisiontreeclassifier__max_features': None,\n",
       "   'decisiontreeclassifier__max_depth': 40,\n",
       "   'decisiontreeclassifier__criterion': 'entropy'},\n",
       "  0.7757447876792335),\n",
       " ('SVC',\n",
       "  {'svc__kernel': 'rbf',\n",
       "   'svc__decision_function_shape': 'ovr',\n",
       "   'svc__break_ties': False},\n",
       "  0.7839573179966928)]"
      ]
     },
     "execution_count": 54,
     "metadata": {},
     "output_type": "execute_result"
    }
   ],
   "source": [
    "models_score_results = []\n",
    "for name, model, parameters in models:\n",
    "    _pipeline = make_pipeline(transformed_data, model)\n",
    "    print(name)\n",
    "    print(_pipeline.get_params().keys())\n",
    "    randomizedSearchCV = RandomizedSearchCV(_pipeline, parameters, verbose=3)\n",
    "    randomizedSearchCV.fit(X_train, y_train)\n",
    "    models_score_results.append((name, randomizedSearchCV.best_params_, randomizedSearchCV.best_score_))\n",
    "    print('\\n')\n",
    "\n",
    "models_score_results"
   ]
  },
  {
   "cell_type": "code",
   "execution_count": null,
   "metadata": {},
   "outputs": [],
   "source": []
  },
  {
   "cell_type": "code",
   "execution_count": 55,
   "metadata": {},
   "outputs": [],
   "source": [
    "###[CV 5/5] END kneighborsclassifier__n_jobs=1, kneighborsclassifier__n_neighbors=100, kneighborsclassifier__weights=distance;, score=0.790 total time=  17.0s\n",
    "###[CV 4/5] END kneighborsclassifier__n_jobs=1, kneighborsclassifier__n_neighbors=100, kneighborsclassifier__weights=distance;, score=0.793 total time=  13.3s\n",
    "###[CV 4/5] END kneighborsclassifier__n_jobs=2, kneighborsclassifier__n_neighbors=100, kneighborsclassifier__weights=distance;, score=0.793 total time=  13.1s\n",
    "###[CV 5/5] END kneighborsclassifier__n_jobs=1, kneighborsclassifier__n_neighbors=50, kneighborsclassifier__weights=uniform;, score=0.791 total time=  12.5s\n",
    "###[CV 1/5] END kneighborsclassifier__n_jobs=1, kneighborsclassifier__n_neighbors=50, kneighborsclassifier__weights=uniform;, score=0.790 total time=  14.1s\n",
    "###[CV 3/5] END randomforestclassifier__criterion=entropy, randomforestclassifier__max_depth=None, randomforestclassifier__max_features=sqrt, randomforestclassifier__n_estimators=100;, score=0.798 total time= 1.8min\n",
    "###[CV 4/5] END randomforestclassifier__criterion=entropy, randomforestclassifier__max_depth=None, randomforestclassifier__max_features=sqrt, randomforestclassifier__n_estimators=100;, score=0.815 total time= 1.6min\n",
    "###[CV 3/5] END randomforestclassifier__criterion=entropy, randomforestclassifier__max_depth=None, randomforestclassifier__max_features=log2, randomforestclassifier__n_estimators=300;, score=0.797 total time= 3.9min\n",
    "###[CV 4/5] END randomforestclassifier__criterion=entropy, randomforestclassifier__max_depth=None, randomforestclassifier__max_features=log2, randomforestclassifier__n_estimators=300;, score=0.806 total time= 4.6min\n",
    "###[CV 4/5] END randomforestclassifier__criterion=entropy, randomforestclassifier__max_depth=None, randomforestclassifier__max_features=log2, randomforestclassifier__n_estimators=300;, score=0.806 total time= 4.6min\n",
    "###[CV 1/5] END randomforestclassifier__criterion=gini, randomforestclassifier__max_depth=None, randomforestclassifier__max_features=log2, randomforestclassifier__n_estimators=300;, score=0.792 total time= 3.4min\n",
    "###[CV 3/5] END randomforestclassifier__criterion=gini, randomforestclassifier__max_depth=None, randomforestclassifier__max_features=log2, randomforestclassifier__n_estimators=300;, score=0.796 total time= 3.6min\n",
    "###[CV 4/5] END randomforestclassifier__criterion=gini, randomforestclassifier__max_depth=None, randomforestclassifier__max_features=log2, randomforestclassifier__n_estimators=300;, score=0.805 total time= 4.1min\n",
    "###[CV 1/5] END randomforestclassifier__criterion=gini, randomforestclassifier__max_depth=None, randomforestclassifier__max_features=log2, randomforestclassifier__n_estimators=200;, score=0.790 total time= 5.8min\n",
    "###[CV 4/5] END randomforestclassifier__criterion=gini, randomforestclassifier__max_depth=None, randomforestclassifier__max_features=log2, randomforestclassifier__n_estimators=200;, score=0.807 total time= 4.5min\n",
    "###[CV 3/5] END randomforestclassifier__criterion=entropy, randomforestclassifier__max_depth=None, randomforestclassifier__max_features=sqrt, randomforestclassifier__n_estimators=300;, score=0.799 total time= 4.2min\n",
    "###[CV 4/5] END randomforestclassifier__criterion=entropy, randomforestclassifier__max_depth=None, randomforestclassifier__max_features=sqrt, randomforestclassifier__n_estimators=300;, score=0.808 total time= 5.3min"
   ]
  }
 ],
 "metadata": {
  "kernelspec": {
   "display_name": "Python 3",
   "language": "python",
   "name": "python3"
  },
  "language_info": {
   "codemirror_mode": {
    "name": "ipython",
    "version": 3
   },
   "file_extension": ".py",
   "mimetype": "text/x-python",
   "name": "python",
   "nbconvert_exporter": "python",
   "pygments_lexer": "ipython3",
   "version": "3.11.8"
  }
 },
 "nbformat": 4,
 "nbformat_minor": 2
}
